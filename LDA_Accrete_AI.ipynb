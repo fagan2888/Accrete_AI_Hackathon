{
 "cells": [
  {
   "cell_type": "code",
   "execution_count": 2,
   "metadata": {
    "colab": {
     "base_uri": "https://localhost:8080/",
     "height": 124
    },
    "colab_type": "code",
    "id": "_9mN2nU7eBdF",
    "outputId": "736ad228-e91a-4333-b840-8f21a9969dfa"
   },
   "outputs": [],
   "source": [
    "import pandas as pd"
   ]
  },
  {
   "cell_type": "code",
   "execution_count": null,
   "metadata": {
    "colab": {},
    "colab_type": "code",
    "id": "fFCrVrpQptAo"
   },
   "outputs": [],
   "source": []
  },
  {
   "cell_type": "code",
   "execution_count": 3,
   "metadata": {
    "colab": {},
    "colab_type": "code",
    "id": "TLQM4KK_eBeF"
   },
   "outputs": [],
   "source": [
    "data = pd.read_csv('data/Train_Data.csv')\n"
   ]
  },
  {
   "cell_type": "code",
   "execution_count": 4,
   "metadata": {
    "colab": {
     "base_uri": "https://localhost:8080/",
     "height": 34
    },
    "colab_type": "code",
    "id": "zv7bWLkUeBe5",
    "outputId": "2b6a36c8-6695-4f1e-9aa6-3c0bfd4e695c"
   },
   "outputs": [
    {
     "data": {
      "text/plain": [
       "(29191, 4)"
      ]
     },
     "execution_count": 4,
     "metadata": {},
     "output_type": "execute_result"
    }
   ],
   "source": [
    "data.shape\n"
   ]
  },
  {
   "cell_type": "code",
   "execution_count": 0,
   "metadata": {
    "colab": {},
    "colab_type": "code",
    "id": "60GU5ntoeBfq"
   },
   "outputs": [],
   "source": [
    "data = data.dropna().reset_index(drop=True)"
   ]
  },
  {
   "cell_type": "code",
   "execution_count": 11,
   "metadata": {
    "colab": {
     "base_uri": "https://localhost:8080/",
     "height": 472
    },
    "colab_type": "code",
    "id": "dthRc09WeBgQ",
    "outputId": "09d10ac1-5bac-4ba4-e454-3b9b3913d22c"
   },
   "outputs": [
    {
     "name": "stdout",
     "output_type": "stream",
     "text": [
      "Collecting langdetect\n",
      "\u001b[?25l  Downloading https://files.pythonhosted.org/packages/59/59/4bc44158a767a6d66de18c4136c8aa90491d56cc951c10b74dd1e13213c9/langdetect-1.0.7.zip (998kB)\n",
      "\r",
      "\u001b[K     |▎                               | 10kB 23.0MB/s eta 0:00:01\r",
      "\u001b[K     |▋                               | 20kB 6.4MB/s eta 0:00:01\r",
      "\u001b[K     |█                               | 30kB 8.1MB/s eta 0:00:01\r",
      "\u001b[K     |█▎                              | 40kB 6.0MB/s eta 0:00:01\r",
      "\u001b[K     |█▋                              | 51kB 7.0MB/s eta 0:00:01\r",
      "\u001b[K     |██                              | 61kB 8.3MB/s eta 0:00:01\r",
      "\u001b[K     |██▎                             | 71kB 8.4MB/s eta 0:00:01\r",
      "\u001b[K     |██▋                             | 81kB 8.6MB/s eta 0:00:01\r",
      "\u001b[K     |███                             | 92kB 9.5MB/s eta 0:00:01\r",
      "\u001b[K     |███▎                            | 102kB 9.7MB/s eta 0:00:01\r",
      "\u001b[K     |███▋                            | 112kB 9.7MB/s eta 0:00:01\r",
      "\u001b[K     |████                            | 122kB 9.7MB/s eta 0:00:01\r",
      "\u001b[K     |████▎                           | 133kB 9.7MB/s eta 0:00:01\r",
      "\u001b[K     |████▋                           | 143kB 9.7MB/s eta 0:00:01\r",
      "\u001b[K     |█████                           | 153kB 9.7MB/s eta 0:00:01\r",
      "\u001b[K     |█████▎                          | 163kB 9.7MB/s eta 0:00:01\r",
      "\u001b[K     |█████▋                          | 174kB 9.7MB/s eta 0:00:01\r",
      "\u001b[K     |██████                          | 184kB 9.7MB/s eta 0:00:01\r",
      "\u001b[K     |██████▎                         | 194kB 9.7MB/s eta 0:00:01\r",
      "\u001b[K     |██████▋                         | 204kB 9.7MB/s eta 0:00:01\r",
      "\u001b[K     |███████                         | 215kB 9.7MB/s eta 0:00:01\r",
      "\u001b[K     |███████▎                        | 225kB 9.7MB/s eta 0:00:01\r",
      "\u001b[K     |███████▌                        | 235kB 9.7MB/s eta 0:00:01\r",
      "\u001b[K     |███████▉                        | 245kB 9.7MB/s eta 0:00:01\r",
      "\u001b[K     |████████▏                       | 256kB 9.7MB/s eta 0:00:01\r",
      "\u001b[K     |████████▌                       | 266kB 9.7MB/s eta 0:00:01\r",
      "\u001b[K     |████████▉                       | 276kB 9.7MB/s eta 0:00:01\r",
      "\u001b[K     |█████████▏                      | 286kB 9.7MB/s eta 0:00:01\r",
      "\u001b[K     |█████████▌                      | 296kB 9.7MB/s eta 0:00:01\r",
      "\u001b[K     |█████████▉                      | 307kB 9.7MB/s eta 0:00:01\r",
      "\u001b[K     |██████████▏                     | 317kB 9.7MB/s eta 0:00:01\r",
      "\u001b[K     |██████████▌                     | 327kB 9.7MB/s eta 0:00:01\r",
      "\u001b[K     |██████████▉                     | 337kB 9.7MB/s eta 0:00:01\r",
      "\u001b[K     |███████████▏                    | 348kB 9.7MB/s eta 0:00:01\r",
      "\u001b[K     |███████████▌                    | 358kB 9.7MB/s eta 0:00:01\r",
      "\u001b[K     |███████████▉                    | 368kB 9.7MB/s eta 0:00:01\r",
      "\u001b[K     |████████████▏                   | 378kB 9.7MB/s eta 0:00:01\r",
      "\u001b[K     |████████████▌                   | 389kB 9.7MB/s eta 0:00:01\r",
      "\u001b[K     |████████████▉                   | 399kB 9.7MB/s eta 0:00:01\r",
      "\u001b[K     |█████████████▏                  | 409kB 9.7MB/s eta 0:00:01\r",
      "\u001b[K     |█████████████▌                  | 419kB 9.7MB/s eta 0:00:01\r",
      "\u001b[K     |█████████████▉                  | 430kB 9.7MB/s eta 0:00:01\r",
      "\u001b[K     |██████████████▏                 | 440kB 9.7MB/s eta 0:00:01\r",
      "\u001b[K     |██████████████▌                 | 450kB 9.7MB/s eta 0:00:01\r",
      "\u001b[K     |██████████████▊                 | 460kB 9.7MB/s eta 0:00:01\r",
      "\u001b[K     |███████████████                 | 471kB 9.7MB/s eta 0:00:01\r",
      "\u001b[K     |███████████████▍                | 481kB 9.7MB/s eta 0:00:01\r",
      "\u001b[K     |███████████████▊                | 491kB 9.7MB/s eta 0:00:01\r",
      "\u001b[K     |████████████████                | 501kB 9.7MB/s eta 0:00:01\r",
      "\u001b[K     |████████████████▍               | 512kB 9.7MB/s eta 0:00:01\r",
      "\u001b[K     |████████████████▊               | 522kB 9.7MB/s eta 0:00:01\r",
      "\u001b[K     |█████████████████               | 532kB 9.7MB/s eta 0:00:01\r",
      "\u001b[K     |█████████████████▍              | 542kB 9.7MB/s eta 0:00:01\r",
      "\u001b[K     |█████████████████▊              | 552kB 9.7MB/s eta 0:00:01\r",
      "\u001b[K     |██████████████████              | 563kB 9.7MB/s eta 0:00:01\r",
      "\u001b[K     |██████████████████▍             | 573kB 9.7MB/s eta 0:00:01\r",
      "\u001b[K     |██████████████████▊             | 583kB 9.7MB/s eta 0:00:01\r",
      "\u001b[K     |███████████████████             | 593kB 9.7MB/s eta 0:00:01\r",
      "\u001b[K     |███████████████████▍            | 604kB 9.7MB/s eta 0:00:01\r",
      "\u001b[K     |███████████████████▊            | 614kB 9.7MB/s eta 0:00:01\r",
      "\u001b[K     |████████████████████            | 624kB 9.7MB/s eta 0:00:01\r",
      "\u001b[K     |████████████████████▍           | 634kB 9.7MB/s eta 0:00:01\r",
      "\u001b[K     |████████████████████▊           | 645kB 9.7MB/s eta 0:00:01\r",
      "\u001b[K     |█████████████████████           | 655kB 9.7MB/s eta 0:00:01\r",
      "\u001b[K     |█████████████████████▍          | 665kB 9.7MB/s eta 0:00:01\r",
      "\u001b[K     |█████████████████████▊          | 675kB 9.7MB/s eta 0:00:01\r",
      "\u001b[K     |██████████████████████          | 686kB 9.7MB/s eta 0:00:01\r",
      "\u001b[K     |██████████████████████▎         | 696kB 9.7MB/s eta 0:00:01\r",
      "\u001b[K     |██████████████████████▋         | 706kB 9.7MB/s eta 0:00:01\r",
      "\u001b[K     |███████████████████████         | 716kB 9.7MB/s eta 0:00:01\r",
      "\u001b[K     |███████████████████████▎        | 727kB 9.7MB/s eta 0:00:01\r",
      "\u001b[K     |███████████████████████▋        | 737kB 9.7MB/s eta 0:00:01\r",
      "\u001b[K     |████████████████████████        | 747kB 9.7MB/s eta 0:00:01\r",
      "\u001b[K     |████████████████████████▎       | 757kB 9.7MB/s eta 0:00:01\r",
      "\u001b[K     |████████████████████████▋       | 768kB 9.7MB/s eta 0:00:01\r",
      "\u001b[K     |█████████████████████████       | 778kB 9.7MB/s eta 0:00:01\r",
      "\u001b[K     |█████████████████████████▎      | 788kB 9.7MB/s eta 0:00:01\r",
      "\u001b[K     |█████████████████████████▋      | 798kB 9.7MB/s eta 0:00:01\r",
      "\u001b[K     |██████████████████████████      | 808kB 9.7MB/s eta 0:00:01\r",
      "\u001b[K     |██████████████████████████▎     | 819kB 9.7MB/s eta 0:00:01\r",
      "\u001b[K     |██████████████████████████▋     | 829kB 9.7MB/s eta 0:00:01\r",
      "\u001b[K     |███████████████████████████     | 839kB 9.7MB/s eta 0:00:01\r",
      "\u001b[K     |███████████████████████████▎    | 849kB 9.7MB/s eta 0:00:01\r",
      "\u001b[K     |███████████████████████████▋    | 860kB 9.7MB/s eta 0:00:01\r",
      "\u001b[K     |████████████████████████████    | 870kB 9.7MB/s eta 0:00:01\r",
      "\u001b[K     |████████████████████████████▎   | 880kB 9.7MB/s eta 0:00:01\r",
      "\u001b[K     |████████████████████████████▋   | 890kB 9.7MB/s eta 0:00:01\r",
      "\u001b[K     |█████████████████████████████   | 901kB 9.7MB/s eta 0:00:01\r",
      "\u001b[K     |█████████████████████████████▏  | 911kB 9.7MB/s eta 0:00:01\r",
      "\u001b[K     |█████████████████████████████▌  | 921kB 9.7MB/s eta 0:00:01\r",
      "\u001b[K     |█████████████████████████████▉  | 931kB 9.7MB/s eta 0:00:01\r",
      "\u001b[K     |██████████████████████████████▏ | 942kB 9.7MB/s eta 0:00:01\r",
      "\u001b[K     |██████████████████████████████▌ | 952kB 9.7MB/s eta 0:00:01\r",
      "\u001b[K     |██████████████████████████████▉ | 962kB 9.7MB/s eta 0:00:01\r",
      "\u001b[K     |███████████████████████████████▏| 972kB 9.7MB/s eta 0:00:01\r",
      "\u001b[K     |███████████████████████████████▌| 983kB 9.7MB/s eta 0:00:01\r",
      "\u001b[K     |███████████████████████████████▉| 993kB 9.7MB/s eta 0:00:01\r",
      "\u001b[K     |████████████████████████████████| 1.0MB 9.7MB/s \n",
      "\u001b[?25hRequirement already satisfied: six in /usr/local/lib/python3.6/dist-packages (from langdetect) (1.12.0)\n",
      "Building wheels for collected packages: langdetect\n",
      "  Building wheel for langdetect (setup.py) ... \u001b[?25l\u001b[?25hdone\n",
      "  Created wheel for langdetect: filename=langdetect-1.0.7-cp36-none-any.whl size=993460 sha256=6c50cad1dcf46fd631b4e98cd2638fe2439875ca9ab256f29e0cb9c70283f8c6\n",
      "  Stored in directory: /root/.cache/pip/wheels/ec/0c/a9/1647275e7ef5014e7b83ff30105180e332867d65e7617ddafe\n",
      "Successfully built langdetect\n",
      "Installing collected packages: langdetect\n",
      "Successfully installed langdetect-1.0.7\n",
      "Requirement already satisfied: tqdm in /usr/local/lib/python3.6/dist-packages (4.28.1)\n",
      "Collecting tqdm\n",
      "\u001b[?25l  Downloading https://files.pythonhosted.org/packages/72/c9/7fc20feac72e79032a7c8138fd0d395dc6d8812b5b9edf53c3afd0b31017/tqdm-4.41.1-py2.py3-none-any.whl (56kB)\n",
      "\u001b[K     |████████████████████████████████| 61kB 5.1MB/s \n",
      "\u001b[?25hInstalling collected packages: tqdm\n",
      "  Found existing installation: tqdm 4.28.1\n",
      "    Uninstalling tqdm-4.28.1:\n",
      "      Successfully uninstalled tqdm-4.28.1\n",
      "Successfully installed tqdm-4.41.1\n"
     ]
    },
    {
     "data": {
      "application/vnd.colab-display-data+json": {
       "pip_warning": {
        "packages": [
         "tqdm"
        ]
       }
      }
     },
     "metadata": {
      "tags": []
     },
     "output_type": "display_data"
    }
   ],
   "source": [
    "!pip install langdetect\n",
    "!pip install tqdm\n",
    "!pip install tqdm --upgrade\n",
    "\n"
   ]
  },
  {
   "cell_type": "code",
   "execution_count": 12,
   "metadata": {
    "colab": {
     "base_uri": "https://localhost:8080/",
     "height": 116,
     "referenced_widgets": [
      "560007aec2f140f394db9a7a979341b1",
      "cc89478afaf844aa81a27120c7f624d9",
      "f8838c3b6ee74c6b8b7c46da116a0970",
      "6f5037551a604bb8be02f9e68b74b850",
      "1b2fce20731349128eee725bef9cefc2",
      "5717d2fe0a70499cbba7b6a71842b1a5",
      "aa48b8f34d5247d6894ebfaab629a40a",
      "11c40c45d2574941821a2faa41558440",
      "be8dab2d9bb54bc0bfd24548a6797e6f",
      "5f2f5ba6ff7549529ea9e25d62c076f7",
      "9389a7112db343ce8b8f7775b45e4e87",
      "ed231b6e69f34825a4c5f2e7a2504119",
      "c745ce161524460296346e1327e844fa",
      "d751f37315424e20859ba8e984827bf7",
      "18b0bbff7d0845edbb8277a9b201a618",
      "31af57cbd0f54cc69332cbc8223d19fd"
     ]
    },
    "colab_type": "code",
    "id": "StuaQH8IeBg0",
    "outputId": "a65f8782-4b15-41df-e43f-26700c258a4b"
   },
   "outputs": [
    {
     "data": {
      "application/vnd.jupyter.widget-view+json": {
       "model_id": "560007aec2f140f394db9a7a979341b1",
       "version_major": 2,
       "version_minor": 0
      },
      "text/plain": [
       "HBox(children=(FloatProgress(value=1.0, bar_style='info', max=1.0), HTML(value='')))"
      ]
     },
     "metadata": {
      "tags": []
     },
     "output_type": "display_data"
    },
    {
     "data": {
      "application/vnd.jupyter.widget-view+json": {
       "model_id": "be8dab2d9bb54bc0bfd24548a6797e6f",
       "version_major": 2,
       "version_minor": 0
      },
      "text/plain": [
       "HBox(children=(FloatProgress(value=0.0, max=29191.0), HTML(value='')))"
      ]
     },
     "metadata": {
      "tags": []
     },
     "output_type": "display_data"
    },
    {
     "name": "stdout",
     "output_type": "stream",
     "text": [
      "\n",
      "\n"
     ]
    }
   ],
   "source": [
    "#Detecting language of the articles and keeping only english language articles\n",
    "from langdetect import detect\n",
    "from tqdm import tqdm_notebook\n",
    "tqdm_notebook().pandas()\n",
    "data['lang'] = data.Abstract.progress_map(detect)"
   ]
  },
  {
   "cell_type": "code",
   "execution_count": 0,
   "metadata": {
    "colab": {},
    "colab_type": "code",
    "id": "li3tW-dgnWMH"
   },
   "outputs": [],
   "source": []
  },
  {
   "cell_type": "code",
   "execution_count": 13,
   "metadata": {
    "colab": {
     "base_uri": "https://localhost:8080/",
     "height": 69
    },
    "colab_type": "code",
    "id": "lJqQdVtReBhS",
    "outputId": "f3f1fda0-9562-4475-8d78-5826181fddb2"
   },
   "outputs": [
    {
     "data": {
      "text/plain": [
       "en    29190\n",
       "fr        1\n",
       "Name: lang, dtype: int64"
      ]
     },
     "execution_count": 13,
     "metadata": {
      "tags": []
     },
     "output_type": "execute_result"
    }
   ],
   "source": [
    "data.lang.value_counts()"
   ]
  },
  {
   "cell_type": "code",
   "execution_count": 14,
   "metadata": {
    "colab": {
     "base_uri": "https://localhost:8080/",
     "height": 52
    },
    "colab_type": "code",
    "id": "IKoH9buseBhp",
    "outputId": "94de85cd-607a-4352-caa7-b7b8e5f3516c"
   },
   "outputs": [
    {
     "name": "stdout",
     "output_type": "stream",
     "text": [
      "[nltk_data] Downloading package punkt to /root/nltk_data...\n",
      "[nltk_data]   Unzipping tokenizers/punkt.zip.\n"
     ]
    }
   ],
   "source": [
    "import nltk\n",
    "nltk.download('punkt')\n",
    "from nltk.tokenize import sent_tokenize\n"
   ]
  },
  {
   "cell_type": "code",
   "execution_count": 15,
   "metadata": {
    "colab": {
     "base_uri": "https://localhost:8080/",
     "height": 116,
     "referenced_widgets": [
      "c0d2866d628540c99cdfccc07742ccd5",
      "8d3f5730a88d4decb31141cad7733463",
      "d04a5833fb314e938fb7e83444798196",
      "ca8cbde3999243899a8d1d35192d3299",
      "fa7867478f2b4613b8e7808607cbf62a",
      "e81aec314ffb470f874ffba2660cd81f",
      "fc770fe16ddd471b91db02e4ee345d7e",
      "19dd4957ec834fc19428c26f489bc84f",
      "ee7761d507fc402f9aabf56d433c7259",
      "079c86c8efc74b98b918bb9309cf1fb6",
      "5b65e3059f8d4085925dc5c5be745f85",
      "3bebdfd4ad254361970ee973a3776764",
      "494835cbee324f2997efb24d0db00417",
      "ed969178b91342d295fb554d98836c5b",
      "d7939152307a444baeb15a2f97b88dc4",
      "59f0e19673e445b0b8322b4a4964a0cf"
     ]
    },
    "colab_type": "code",
    "id": "_FYMHGGyqlBE",
    "outputId": "8ffd611e-cbf3-4e64-9c64-fc245bca6410"
   },
   "outputs": [
    {
     "data": {
      "application/vnd.jupyter.widget-view+json": {
       "model_id": "c0d2866d628540c99cdfccc07742ccd5",
       "version_major": 2,
       "version_minor": 0
      },
      "text/plain": [
       "HBox(children=(FloatProgress(value=0.0, max=29191.0), HTML(value='')))"
      ]
     },
     "metadata": {
      "tags": []
     },
     "output_type": "display_data"
    },
    {
     "name": "stdout",
     "output_type": "stream",
     "text": [
      "\n"
     ]
    },
    {
     "data": {
      "application/vnd.jupyter.widget-view+json": {
       "model_id": "ee7761d507fc402f9aabf56d433c7259",
       "version_major": 2,
       "version_minor": 0
      },
      "text/plain": [
       "HBox(children=(FloatProgress(value=0.0, max=29191.0), HTML(value='')))"
      ]
     },
     "metadata": {
      "tags": []
     },
     "output_type": "display_data"
    },
    {
     "name": "stdout",
     "output_type": "stream",
     "text": [
      "\n"
     ]
    }
   ],
   "source": [
    "data['sentences'] = data.Abstract.progress_map(sent_tokenize)+data.Title.progress_map(sent_tokenize)"
   ]
  },
  {
   "cell_type": "code",
   "execution_count": 18,
   "metadata": {
    "colab": {
     "base_uri": "https://localhost:8080/",
     "height": 141
    },
    "colab_type": "code",
    "id": "J4GCY7HSqs4_",
    "outputId": "efc64ad4-c334-4027-f00a-dc77d52989ca"
   },
   "outputs": [
    {
     "data": {
      "text/plain": [
       "['  We consider charged boson stars and study their effect on the structure of\\\\nthe vacuum.',\n",
       " 'For very compact particle like ``stars\", with constituent mass\\\\n$m_{*}$ close to the Planck mass $m_{Pl}$, i.e.',\n",
       " '$m_{*}^{2} = {\\\\\\\\cal O} (\\\\\\\\alpha\\\\nm_{Pl}^{2})$, we argue that there is a limiting total electric charge $Z_c$,\\\\nwhich, primarily, is due to the formation of a pion condensate ($Z_{c} \\\\\\\\simeq\\\\n0.5\\\\\\\\alpha^{-1}e$, where $\\\\\\\\alpha$ is the fine structure constant and $e$ is the\\\\nelectric charge of the positron).',\n",
       " 'If the charge of the ``star\" is larger than\\\\n$Z_c$ we find numerical evidence for a complete screening indicating a limiting\\\\ncharge for a very compact object.\\\\n  There is also a less efficient competing charge screening mechanism due to\\\\nspontaneous electron-positron pair creation in which case $Z_{c} \\\\\\\\simeq\\\\n\\\\\\\\alpha^{-1}e$.',\n",
       " 'Astrophysical and cosmological abundances of charged compact\\\\nboson stars are briefly discussed in terms of dark matter.\\\\n',\n",
       " 'Charged Boson Stars and Vacuum Instabilities']"
      ]
     },
     "execution_count": 18,
     "metadata": {
      "tags": []
     },
     "output_type": "execute_result"
    }
   ],
   "source": [
    "data['sentences'][1]"
   ]
  },
  {
   "cell_type": "code",
   "execution_count": 19,
   "metadata": {
    "colab": {
     "base_uri": "https://localhost:8080/",
     "height": 66,
     "referenced_widgets": [
      "f20f9ce7654943d0b6bc4433e8655d28",
      "5b41df142b1b4ef4be00392683d99640",
      "dd1e3c5d80414530a72425d87ff8b871",
      "66e1effb3d7549d7bb4822572ddf1d11",
      "3d5330bbbef84a7590933cd19c4dfe20",
      "1d978acfc9b24b888b0476f91e071944",
      "df5deb91552d497880b7ee52c74a41df",
      "d2be6aaaee694d83a6558bcafdf947f2"
     ]
    },
    "colab_type": "code",
    "id": "AdnqSvCHqx64",
    "outputId": "599b5a64-088d-41c9-ed76-7c1c5aa8e5ba"
   },
   "outputs": [
    {
     "data": {
      "application/vnd.jupyter.widget-view+json": {
       "model_id": "f20f9ce7654943d0b6bc4433e8655d28",
       "version_major": 2,
       "version_minor": 0
      },
      "text/plain": [
       "HBox(children=(FloatProgress(value=0.0, max=29191.0), HTML(value='')))"
      ]
     },
     "metadata": {
      "tags": []
     },
     "output_type": "display_data"
    },
    {
     "name": "stdout",
     "output_type": "stream",
     "text": [
      "\n"
     ]
    }
   ],
   "source": [
    "from nltk.tokenize import word_tokenize\n",
    "data['tokens_sentences'] = data['sentences'].progress_map(lambda sentences: [word_tokenize(sentence) for sentence in sentences])"
   ]
  },
  {
   "cell_type": "code",
   "execution_count": 20,
   "metadata": {
    "colab": {
     "base_uri": "https://localhost:8080/",
     "height": 86
    },
    "colab_type": "code",
    "id": "Nzp9up8vrAoa",
    "outputId": "59b45445-1783-435c-900a-140b2b793035"
   },
   "outputs": [
    {
     "name": "stdout",
     "output_type": "stream",
     "text": [
      "[nltk_data] Downloading package averaged_perceptron_tagger to\n",
      "[nltk_data]     /root/nltk_data...\n",
      "[nltk_data]   Unzipping taggers/averaged_perceptron_tagger.zip.\n"
     ]
    },
    {
     "data": {
      "text/plain": [
       "True"
      ]
     },
     "execution_count": 20,
     "metadata": {
      "tags": []
     },
     "output_type": "execute_result"
    }
   ],
   "source": [
    "from nltk import pos_tag\n",
    "nltk.download('averaged_perceptron_tagger')"
   ]
  },
  {
   "cell_type": "code",
   "execution_count": 21,
   "metadata": {
    "colab": {
     "base_uri": "https://localhost:8080/",
     "height": 104,
     "referenced_widgets": [
      "3f333ea494044b49820c0c6d01b74833",
      "38d1c472794b4c738932b645f7f5ab94",
      "e04e7b1488084269865ca6b453bbc283",
      "734259d504d44544bd8448fb533ef95c",
      "4b4f12359c4c407f84d637a23cff6e22",
      "67af9a4732e1499ea50cd66bf08cf871",
      "7512c9b89cb8498bb04e433effdc2fcc",
      "077f2837fffe419d9c9556c221cba081"
     ]
    },
    "colab_type": "code",
    "id": "59GKOvUerSiW",
    "outputId": "cb5e5930-ccab-4c41-db71-781a9fc62214"
   },
   "outputs": [
    {
     "data": {
      "application/vnd.jupyter.widget-view+json": {
       "model_id": "3f333ea494044b49820c0c6d01b74833",
       "version_major": 2,
       "version_minor": 0
      },
      "text/plain": [
       "HBox(children=(FloatProgress(value=0.0, max=29191.0), HTML(value='')))"
      ]
     },
     "metadata": {
      "tags": []
     },
     "output_type": "display_data"
    },
    {
     "name": "stdout",
     "output_type": "stream",
     "text": [
      "\n",
      "[[('We', 'PRP'), ('investigate', 'VBP'), ('how', 'WRB'), ('the', 'DT'), ('formation', 'NN'), ('and', 'CC'), ('evolution', 'NN'), ('of', 'IN'), ('extrasolar', 'JJ'), ('planetary\\\\nsystems', 'NNS'), ('can', 'MD'), ('be', 'VB'), ('affected', 'VBN'), ('by', 'IN'), ('stellar', 'JJ'), ('encounters', 'NNS'), ('that', 'WDT'), ('occur', 'VBP'), ('in', 'IN'), ('the', 'DT'), ('crowded\\\\nconditions', 'NNS'), ('of', 'IN'), ('a', 'DT'), ('stellar', 'JJ'), ('cluster', 'NN'), ('.', '.')], [('Using', 'VBG'), ('plausible', 'JJ'), ('estimates', 'NNS'), ('of', 'IN'), ('cluster\\\\nevolution', 'NN'), (',', ','), ('we', 'PRP'), ('show', 'VBP'), ('how', 'WRB'), ('planet', 'JJ'), ('formation', 'NN'), ('may', 'MD'), ('be', 'VB'), ('supressed', 'VBN'), ('in', 'IN'), ('globular', 'JJ'), ('clusters\\\\nwhile', 'NN'), ('planets', 'NNS'), ('wider', 'JJR'), ('than', 'IN'), ('0.1', 'CD'), ('AU', 'NNP'), ('that', 'WDT'), ('do', 'VBP'), ('form', 'VB'), ('in', 'IN'), ('such', 'JJ'), ('environments', 'NNS'), ('can', 'MD'), ('be\\\\nejected', 'VBN'), ('from', 'IN'), ('their', 'PRP$'), ('stellar', 'JJ'), ('system', 'NN'), ('.', '.')], [('Less', 'NNP'), ('crowded', 'VBD'), ('systems', 'NNS'), ('such', 'JJ'), ('as', 'IN'), ('open', 'JJ'), ('clusters\\\\nhave', 'VBP'), ('a', 'DT'), ('much', 'RB'), ('reduced', 'VBN'), ('effect', 'NN'), ('on', 'IN'), ('any', 'DT'), ('planetary', 'JJ'), ('system', 'NN'), ('.', '.')], [('Planet', 'NNP'), ('formation', 'NN'), ('is\\\\nunaffected', 'VBD'), ('in', 'IN'), ('open', 'JJ'), ('clusters', 'NNS'), ('and', 'CC'), ('only', 'RB'), ('the', 'DT'), ('wider', 'NN'), ('planetary', 'JJ'), ('systems', 'NNS'), ('will', 'MD'), ('be\\\\ndisrupted', 'VBN'), ('during', 'IN'), ('the', 'DT'), ('cluster\\\\', 'NN'), (\"'s\", 'POS'), ('lifetime', 'NN'), ('.', '.')], [('The', 'DT'), ('potential', 'JJ'), ('for', 'IN'), ('free-floating\\\\nplanets', 'NNS'), ('in', 'IN'), ('these', 'DT'), ('environments', 'NNS'), ('is', 'VBZ'), ('also', 'RB'), ('discussed.\\\\n', 'JJ')], [('Planetary', 'JJ'), ('dynamics', 'NNS'), ('in', 'IN'), ('stellar', 'JJ'), ('clusters', 'NNS')]]\n"
     ]
    }
   ],
   "source": [
    "data['POS_tokens'] = data['tokens_sentences'].progress_map(lambda tokens_sentences: [pos_tag(tokens) for tokens in tokens_sentences])\n",
    "print(data['POS_tokens'][200][:])"
   ]
  },
  {
   "cell_type": "code",
   "execution_count": 22,
   "metadata": {
    "colab": {
     "base_uri": "https://localhost:8080/",
     "height": 52
    },
    "colab_type": "code",
    "id": "z-0sPK6drVcn",
    "outputId": "7c7b27d8-07d4-4851-d9f7-f8077977f9b8"
   },
   "outputs": [
    {
     "name": "stdout",
     "output_type": "stream",
     "text": [
      "[nltk_data] Downloading package wordnet to /root/nltk_data...\n",
      "[nltk_data]   Unzipping corpora/wordnet.zip.\n"
     ]
    }
   ],
   "source": [
    "nltk.download('wordnet')\n",
    "from nltk.corpus import wordnet\n",
    "\n",
    "def get_wordnet_pos(treebank_tag):\n",
    "\n",
    "    if treebank_tag.startswith('J'):\n",
    "        return wordnet.ADJ\n",
    "    elif treebank_tag.startswith('V'):\n",
    "        return wordnet.VERB\n",
    "    elif treebank_tag.startswith('N'):\n",
    "        return wordnet.NOUN\n",
    "    elif treebank_tag.startswith('R'):\n",
    "        return wordnet.ADV\n",
    "    else:\n",
    "        return ''\n",
    "\n",
    "from nltk.stem.wordnet import WordNetLemmatizer\n",
    "lemmatizer = WordNetLemmatizer()"
   ]
  },
  {
   "cell_type": "code",
   "execution_count": 1,
   "metadata": {
    "colab": {
     "base_uri": "https://localhost:8080/",
     "height": 66,
     "referenced_widgets": [
      "f80ef4792b114ebe9059760519b5731a",
      "aec452e09aee4e77af033c4da5e05b62",
      "c08abdac7f474d6ea985781fb7d0cf69",
      "6cee0e1807e34a80aa54d8dcc239f1ef",
      "40cb811a16f845d6b1063c7ae624cee7",
      "67a3c356875842619325688814be129b",
      "da556c47fa66473d959cb76d7299c749",
      "002e478b11b343b4a5e6ca3e5a8bfc16"
     ]
    },
    "colab_type": "code",
    "id": "VWWSk5_stPok",
    "outputId": "4073b46e-3048-4399-cc74-83ca05541ee9"
   },
   "outputs": [
    {
     "ename": "NameError",
     "evalue": "name 'data' is not defined",
     "output_type": "error",
     "traceback": [
      "\u001b[0;31m---------------------------------------------------------------------------\u001b[0m",
      "\u001b[0;31mNameError\u001b[0m                                 Traceback (most recent call last)",
      "\u001b[0;32m<ipython-input-1-79f289487c04>\u001b[0m in \u001b[0;36m<module>\u001b[0;34m\u001b[0m\n\u001b[1;32m      1\u001b[0m \u001b[0;31m# Lemmatizing each word with its POS tag, in each sentence\u001b[0m\u001b[0;34m\u001b[0m\u001b[0;34m\u001b[0m\u001b[0;34m\u001b[0m\u001b[0m\n\u001b[0;32m----> 2\u001b[0;31m data['tokens_sentences_lemmatized'] = data['POS_tokens'].progress_map(\n\u001b[0m\u001b[1;32m      3\u001b[0m     lambda list_tokens_POS: [\n\u001b[1;32m      4\u001b[0m         [\n\u001b[1;32m      5\u001b[0m             \u001b[0mlemmatizer\u001b[0m\u001b[0;34m.\u001b[0m\u001b[0mlemmatize\u001b[0m\u001b[0;34m(\u001b[0m\u001b[0mel\u001b[0m\u001b[0;34m[\u001b[0m\u001b[0;36m0\u001b[0m\u001b[0;34m]\u001b[0m\u001b[0;34m,\u001b[0m \u001b[0mget_wordnet_pos\u001b[0m\u001b[0;34m(\u001b[0m\u001b[0mel\u001b[0m\u001b[0;34m[\u001b[0m\u001b[0;36m1\u001b[0m\u001b[0;34m]\u001b[0m\u001b[0;34m)\u001b[0m\u001b[0;34m)\u001b[0m\u001b[0;34m\u001b[0m\u001b[0;34m\u001b[0m\u001b[0m\n",
      "\u001b[0;31mNameError\u001b[0m: name 'data' is not defined"
     ]
    }
   ],
   "source": [
    "# Lemmatizing each word with its POS tag, in each sentence\n",
    "data['tokens_sentences_lemmatized'] = data['POS_tokens'].progress_map(\n",
    "    lambda list_tokens_POS: [\n",
    "        [\n",
    "            lemmatizer.lemmatize(el[0], get_wordnet_pos(el[1])) \n",
    "            if get_wordnet_pos(el[1]) != '' else el[0] for el in tokens_POS\n",
    "        ] \n",
    "        for tokens_POS in list_tokens_POS\n",
    "    ]\n",
    ")\n",
    "\n"
   ]
  },
  {
   "cell_type": "code",
   "execution_count": 24,
   "metadata": {
    "colab": {
     "base_uri": "https://localhost:8080/",
     "height": 1000
    },
    "colab_type": "code",
    "id": "Y3JU2WXJtTc-",
    "outputId": "aa29f3ce-30d9-40cf-8b36-2d75f190e798"
   },
   "outputs": [
    {
     "data": {
      "text/plain": [
       "[['It',\n",
       "  'be',\n",
       "  'suggest',\n",
       "  'that',\n",
       "  'the',\n",
       "  'nonorthodox',\n",
       "  'model',\n",
       "  'of',\n",
       "  'a',\n",
       "  'quasar',\n",
       "  'as',\n",
       "  'a',\n",
       "  'neutrino',\n",
       "  'ball\\\\ndescribed',\n",
       "  'in',\n",
       "  'term',\n",
       "  'of',\n",
       "  'the',\n",
       "  'standard',\n",
       "  'model',\n",
       "  'extend',\n",
       "  'by',\n",
       "  'add',\n",
       "  'right-handed\\\\nneutrinos',\n",
       "  'and',\n",
       "  'the',\n",
       "  'Majorana',\n",
       "  'scalar',\n",
       "  'field',\n",
       "  'can',\n",
       "  'be',\n",
       "  'present',\n",
       "  'in',\n",
       "  'order',\n",
       "  'to',\n",
       "  'explain',\n",
       "  'a\\\\nquasar',\n",
       "  'as',\n",
       "  'a',\n",
       "  'body',\n",
       "  'of',\n",
       "  'weak',\n",
       "  'interact',\n",
       "  'neutrino',\n",
       "  '.'],\n",
       " ['Neutrino',\n",
       "  'interaction',\n",
       "  'with',\n",
       "  'the\\\\nscalar',\n",
       "  'Majorana',\n",
       "  'field',\n",
       "  'violate',\n",
       "  'the',\n",
       "  'lepton',\n",
       "  'number',\n",
       "  'and',\n",
       "  'produce',\n",
       "  'the',\n",
       "  'mass\\\\nsplitting',\n",
       "  'of',\n",
       "  'the',\n",
       "  'neutrino',\n",
       "  'due',\n",
       "  'to',\n",
       "  'the',\n",
       "  'sea-saw',\n",
       "  'mechanism',\n",
       "  '.'],\n",
       " ['In',\n",
       "  'this',\n",
       "  'model',\n",
       "  'a',\n",
       "  'quasar\\\\nis',\n",
       "  'an',\n",
       "  'object',\n",
       "  'which',\n",
       "  'appear',\n",
       "  'in',\n",
       "  'the',\n",
       "  'result',\n",
       "  'of',\n",
       "  'the',\n",
       "  'first',\n",
       "  'order',\n",
       "  'cosmological',\n",
       "  'phase\\\\ntransition',\n",
       "  '.'],\n",
       " ['In',\n",
       "  'this',\n",
       "  'interpretation',\n",
       "  'a',\n",
       "  'quasar',\n",
       "  'may',\n",
       "  'be',\n",
       "  'regard',\n",
       "  'as',\n",
       "  'a',\n",
       "  'ball',\n",
       "  'filled\\\\nwith',\n",
       "  'Dirac',\n",
       "  'neutrino',\n",
       "  'and',\n",
       "  'can',\n",
       "  'be',\n",
       "  'treat',\n",
       "  'as',\n",
       "  'a',\n",
       "  'remnant',\n",
       "  'of',\n",
       "  'phase',\n",
       "  'transition',\n",
       "  'with\\\\nunbroken',\n",
       "  'global',\n",
       "  'lepton',\n",
       "  'symmetry',\n",
       "  '.'],\n",
       " ['In',\n",
       "  'this',\n",
       "  'paper',\n",
       "  'we',\n",
       "  'study',\n",
       "  'the',\n",
       "  'macroscopic\\\\nparameters',\n",
       "  'of',\n",
       "  'such',\n",
       "  'a',\n",
       "  'configuration',\n",
       "  '.'],\n",
       " ['In',\n",
       "  'the',\n",
       "  'result',\n",
       "  'the',\n",
       "  'mass-radius',\n",
       "  'curve',\n",
       "  'M',\n",
       "  '(',\n",
       "  'R',\n",
       "  ')',\n",
       "  '\\\\nfor',\n",
       "  'the',\n",
       "  'quasar',\n",
       "  'be',\n",
       "  'obtained.\\\\n'],\n",
       " ['The', 'Neutrino', 'Ball', 'Model', 'of', 'a', 'Quasar']]"
      ]
     },
     "execution_count": 24,
     "metadata": {
      "tags": []
     },
     "output_type": "execute_result"
    }
   ],
   "source": [
    "data['tokens_sentences_lemmatized'][0][:]"
   ]
  },
  {
   "cell_type": "code",
   "execution_count": 26,
   "metadata": {
    "colab": {
     "base_uri": "https://localhost:8080/",
     "height": 52
    },
    "colab_type": "code",
    "id": "lqCURsdOtlRz",
    "outputId": "40fa7f6b-fe3a-4134-8dc0-d01d04e01901"
   },
   "outputs": [
    {
     "name": "stdout",
     "output_type": "stream",
     "text": [
      "[nltk_data] Downloading package stopwords to /root/nltk_data...\n",
      "[nltk_data]   Package stopwords is already up-to-date!\n"
     ]
    }
   ],
   "source": [
    "#Downloading stopwords\n",
    "nltk.download('stopwords')\n",
    "from nltk.corpus import stopwords\n",
    "my_stopwords = stopwords.words('english')"
   ]
  },
  {
   "cell_type": "code",
   "execution_count": 0,
   "metadata": {
    "colab": {},
    "colab_type": "code",
    "id": "BED6UFDGtyLC"
   },
   "outputs": [],
   "source": [
    "from itertools import chain # to flatten list of sentences of tokens into list of tokens\n"
   ]
  },
  {
   "cell_type": "code",
   "execution_count": 0,
   "metadata": {
    "colab": {},
    "colab_type": "code",
    "id": "H_IM8s33uq8x"
   },
   "outputs": [],
   "source": [
    "data['tokens'] = data['tokens_sentences_lemmatized'].map(lambda sentences: list(chain.from_iterable(sentences)))\n",
    "data['tokens'] = data['tokens'].map(lambda tokens: [token.lower() for token in tokens if token.isalpha() \n",
    "                                                    and token.lower() not in my_stopwords and len(token)>1])"
   ]
  },
  {
   "cell_type": "code",
   "execution_count": 29,
   "metadata": {
    "colab": {
     "base_uri": "https://localhost:8080/",
     "height": 1000
    },
    "colab_type": "code",
    "id": "Z2EFKREwuvEG",
    "outputId": "eaa04bd8-6ad2-49aa-8fc1-3b35e6963e87"
   },
   "outputs": [
    {
     "data": {
      "text/plain": [
       "['suggest',\n",
       " 'nonorthodox',\n",
       " 'model',\n",
       " 'quasar',\n",
       " 'neutrino',\n",
       " 'term',\n",
       " 'standard',\n",
       " 'model',\n",
       " 'extend',\n",
       " 'add',\n",
       " 'majorana',\n",
       " 'scalar',\n",
       " 'field',\n",
       " 'present',\n",
       " 'order',\n",
       " 'explain',\n",
       " 'body',\n",
       " 'weak',\n",
       " 'interact',\n",
       " 'neutrino',\n",
       " 'neutrino',\n",
       " 'interaction',\n",
       " 'majorana',\n",
       " 'field',\n",
       " 'violate',\n",
       " 'lepton',\n",
       " 'number',\n",
       " 'produce',\n",
       " 'neutrino',\n",
       " 'due',\n",
       " 'mechanism',\n",
       " 'model',\n",
       " 'object',\n",
       " 'appear',\n",
       " 'result',\n",
       " 'first',\n",
       " 'order',\n",
       " 'cosmological',\n",
       " 'interpretation',\n",
       " 'quasar',\n",
       " 'may',\n",
       " 'regard',\n",
       " 'ball',\n",
       " 'dirac',\n",
       " 'neutrino',\n",
       " 'treat',\n",
       " 'remnant',\n",
       " 'phase',\n",
       " 'transition',\n",
       " 'global',\n",
       " 'lepton',\n",
       " 'symmetry',\n",
       " 'paper',\n",
       " 'study',\n",
       " 'configuration',\n",
       " 'result',\n",
       " 'curve',\n",
       " 'quasar',\n",
       " 'neutrino',\n",
       " 'ball',\n",
       " 'model',\n",
       " 'quasar']"
      ]
     },
     "execution_count": 29,
     "metadata": {
      "tags": []
     },
     "output_type": "execute_result"
    }
   ],
   "source": [
    "#final tokens after lemmatizing and removing stopwords\n",
    "data['tokens'][0][:]"
   ]
  },
  {
   "cell_type": "code",
   "execution_count": 0,
   "metadata": {
    "colab": {},
    "colab_type": "code",
    "id": "TDJCBPjUu1be"
   },
   "outputs": [],
   "source": [
    "from gensim.models import Phrases"
   ]
  },
  {
   "cell_type": "code",
   "execution_count": 31,
   "metadata": {
    "colab": {
     "base_uri": "https://localhost:8080/",
     "height": 72
    },
    "colab_type": "code",
    "id": "viy4pE7NvOj4",
    "outputId": "a2fa7a11-8adf-42de-8223-a3d55817cf2c"
   },
   "outputs": [
    {
     "name": "stderr",
     "output_type": "stream",
     "text": [
      "/usr/local/lib/python3.6/dist-packages/gensim/models/phrases.py:598: UserWarning: For a faster implementation, use the gensim.models.phrases.Phraser class\n",
      "  warnings.warn(\"For a faster implementation, use the gensim.models.phrases.Phraser class\")\n"
     ]
    }
   ],
   "source": [
    "tokens = data['tokens'].tolist()\n",
    "bigram_model = Phrases(tokens)\n",
    "trigram_model = Phrases(bigram_model[tokens], min_count=1)\n",
    "tokens = list(trigram_model[bigram_model[tokens]])"
   ]
  },
  {
   "cell_type": "code",
   "execution_count": 0,
   "metadata": {
    "colab": {},
    "colab_type": "code",
    "id": "dkGj_GOMvS_e"
   },
   "outputs": [],
   "source": [
    "from gensim import corpora"
   ]
  },
  {
   "cell_type": "code",
   "execution_count": 0,
   "metadata": {
    "colab": {},
    "colab_type": "code",
    "id": "XSE-6rkrvePd"
   },
   "outputs": [],
   "source": [
    "#creating a dictionary containing all tokens\n",
    "dictionary_LDA = corpora.Dictionary(tokens)\n",
    "dictionary_LDA.filter_extremes(no_below=3)\n",
    "#creating a corpus\n",
    "#Gensim creates a unique id for each word in the document. The produced corpus is a mapping of (word_id, word_frequency).\n",
    "#converting dictionary_LDA to bag of words\n",
    "corpus = [dictionary_LDA.doc2bow(tok) for tok in tokens]"
   ]
  },
  {
   "cell_type": "code",
   "execution_count": 0,
   "metadata": {
    "colab": {},
    "colab_type": "code",
    "id": "h3Z89iWQ43vx"
   },
   "outputs": [],
   "source": [
    "from gensim import models\n",
    "import numpy as np\n"
   ]
  },
  {
   "cell_type": "code",
   "execution_count": 38,
   "metadata": {
    "colab": {
     "base_uri": "https://localhost:8080/",
     "height": 106
    },
    "colab_type": "code",
    "id": "hSzmBXL_82mj",
    "outputId": "479b6215-6915-4020-96d8-f8ca137c7c1a"
   },
   "outputs": [
    {
     "name": "stderr",
     "output_type": "stream",
     "text": [
      "/usr/local/lib/python3.6/dist-packages/gensim/models/ldamodel.py:1023: RuntimeWarning: divide by zero encountered in log\n",
      "  diff = np.log(self.expElogbeta)\n"
     ]
    },
    {
     "name": "stdout",
     "output_type": "stream",
     "text": [
      "CPU times: user 9min 59s, sys: 3min 39s, total: 13min 38s\n",
      "Wall time: 8min 59s\n"
     ]
    }
   ],
   "source": [
    "#num_topics is the number of topics each paper is mapped to with some probability\n",
    "#using high number of topics because of high number of subjects\n",
    "np.random.seed(123456)\n",
    "num_topics = 600\n",
    "# train model, this might takes time\n",
    "%time lda_model = models.LdaModel(corpus, num_topics=num_topics, \\\n",
    "                                  id2word=dictionary_LDA, \\\n",
    "                                  passes=4, alpha=[0.01]*num_topics, \\\n",
    "                                  eta=[0.01]*len(dictionary_LDA.keys()))\n"
   ]
  },
  {
   "cell_type": "code",
   "execution_count": 41,
   "metadata": {
    "colab": {
     "base_uri": "https://localhost:8080/",
     "height": 1000
    },
    "colab_type": "code",
    "id": "1zUWJs4d85iB",
    "outputId": "5b512f6b-26b3-46d9-9569-927b608e0f58"
   },
   "outputs": [
    {
     "name": "stderr",
     "output_type": "stream",
     "text": [
      "/usr/local/lib/python3.6/dist-packages/smart_open/smart_open_lib.py:402: UserWarning: This function is deprecated, use smart_open.open instead. See the migration notes for details: https://github.com/RaRe-Technologies/smart_open/blob/master/README.rst#migrating-to-the-new-open-function\n",
      "  'See the migration notes for details: %s' % _MIGRATION_NOTES_URL\n"
     ]
    },
    {
     "name": "stdout",
     "output_type": "stream",
     "text": [
      "77: 0.224*\"gain\" + 0.076*\"dynamic_range\" + 0.059*\"block\" + 0.049*\"bimodal\" + 0.025*\"circuit\" + 0.018*\"process_responsible\" + 0.014*\"fpga\" + 0.013*\"digitize\" + 0.012*\"sampler\" + 0.011*\"unprecedented_quality\" + 0.011*\"local_minimum\" + 0.008*\"cylindrical_coordinate\" + 0.008*\"onwards\" + 0.008*\"markarian\" + 0.008*\"readout_system\" + 0.005*\"spectroscopic_database\" + 0.005*\"median_metallicity\" + 0.005*\"effective_temperature_metallicity\" + 0.005*\"demonstrate_robustness\" + 0.004*\"capacitor\"\n",
      "\n",
      "110: 0.178*\"importantly\" + 0.112*\"horizontal\" + 0.069*\"vigorous\" + 0.012*\"supercomputing\" + 0.008*\"sixty\" + 0.000*\"depend\" + 0.000*\"evaluate\" + 0.000*\"time\" + 0.000*\"specific\" + 0.000*\"range\" + 0.000*\"detection\" + 0.000*\"however\" + 0.000*\"provide\" + 0.000*\"observational\" + 0.000*\"problem\" + 0.000*\"status\" + 0.000*\"supergranulation\" + 0.000*\"result\" + 0.000*\"ice\" + 0.000*\"scale\"\n",
      "\n",
      "0: 0.231*\"curve\" + 0.186*\"equation_state\" + 0.079*\"phase_transition\" + 0.043*\"apply_method\" + 0.040*\"qualitatively\" + 0.038*\"occurs\" + 0.013*\"detection_efficiency\" + 0.013*\"surface_tension\" + 0.012*\"calculate\" + 0.011*\"similar\" + 0.010*\"explain\" + 0.009*\"combine\" + 0.009*\"find\" + 0.009*\"quantify_impact\" + 0.009*\"constrain\" + 0.008*\"maxwell\" + 0.007*\"second\" + 0.006*\"propose\" + 0.006*\"take\" + 0.006*\"perform\"\n",
      "\n",
      "345: 0.258*\"collect\" + 0.068*\"confirmed\" + 0.039*\"bl_lac\" + 0.031*\"extreme_case\" + 0.017*\"lagrange_point\" + 0.014*\"highly_efficient\" + 0.010*\"data_release_sloan_digital\" + 0.009*\"describe_power_law\" + 0.009*\"roche\" + 0.006*\"sea_level\" + 0.004*\"bl_lac_objects\" + 0.001*\"mexico_altitude\" + 0.000*\"previous\" + 0.000*\"spectrum\" + 0.000*\"sample\" + 0.000*\"formula\" + 0.000*\"diagram\" + 0.000*\"work\" + 0.000*\"data\" + 0.000*\"characteristic\"\n",
      "\n",
      "372: 0.217*\"interstellar\" + 0.165*\"simultaneous\" + 0.145*\"extragalactic\" + 0.110*\"even_though\" + 0.010*\"extragalactic_sky\" + 0.007*\"extragalactic_object\" + 0.004*\"fifty\" + 0.003*\"supernova_snrs\" + 0.003*\"discover\" + 0.003*\"discuss\" + 0.001*\"galactic\" + 0.000*\"develop\" + 0.000*\"source\" + 0.000*\"emission\" + 0.000*\"study\" + 0.000*\"use\" + 0.000*\"already\" + 0.000*\"model\" + 0.000*\"result\" + 0.000*\"range\"\n",
      "\n",
      "575: 0.318*\"typical\" + 0.133*\"specie\" + 0.120*\"unique\" + 0.081*\"chemistry\" + 0.062*\"unlike\" + 0.015*\"well\" + 0.014*\"observe\" + 0.013*\"compound\" + 0.013*\"chemically\" + 0.012*\"carry\" + 0.012*\"sulfur\" + 0.010*\"cdm_cosmology\" + 0.008*\"either\" + 0.008*\"compare\" + 0.006*\"suggest\" + 0.006*\"optical_color\" + 0.006*\"characteristic\" + 0.005*\"therefore\" + 0.004*\"imply\" + 0.004*\"detect\"\n",
      "\n",
      "347: 0.283*\"last\" + 0.110*\"min\" + 0.063*\"becomes\" + 0.024*\"much_long\" + 0.022*\"scale_law\" + 0.017*\"qg\" + 0.017*\"envision\" + 0.009*\"sites\" + 0.009*\"respect_previous\" + 0.008*\"details\" + 0.006*\"iso_erg\" + 0.005*\"grond\" + 0.004*\"stringent_low\" + 0.004*\"ksps\" + 0.003*\"also_flag\" + 0.002*\"key_science_projects\" + 0.001*\"site_locate\" + 0.001*\"october_january\" + 0.000*\"vhe_gev_source\" + 0.000*\"observation\"\n",
      "\n",
      "12: 0.191*\"combined\" + 0.161*\"version\" + 0.103*\"climate\" + 0.038*\"lie_within\" + 0.032*\"cone\" + 0.031*\"specification\" + 0.027*\"significant_difference\" + 0.023*\"preliminary_result\" + 0.022*\"multipoles\" + 0.013*\"sky_position\" + 0.013*\"carlo\" + 0.011*\"level_accuracy\" + 0.007*\"goal_work\" + 0.006*\"environmental_parameter\" + 0.005*\"standardization\" + 0.004*\"prototype_detector\" + 0.003*\"suggest\" + 0.002*\"make\" + 0.002*\"livetime\" + 0.002*\"science_technology\"\n",
      "\n",
      "370: 0.428*\"conclude\" + 0.104*\"pass\" + 0.094*\"modern\" + 0.044*\"minor\" + 0.022*\"confront\" + 0.022*\"thermodynamics\" + 0.015*\"good_candidate\" + 0.013*\"make\" + 0.012*\"gravitation\" + 0.010*\"major_challenge\" + 0.009*\"story\" + 0.009*\"however\" + 0.007*\"propose\" + 0.006*\"first\" + 0.006*\"test\" + 0.005*\"cold_atom\" + 0.005*\"consider\" + 0.003*\"carry\" + 0.002*\"direct_indirect_detection\" + 0.002*\"compare\"\n",
      "\n",
      "111: 0.347*\"search\" + 0.065*\"probability\" + 0.064*\"network\" + 0.057*\"use\" + 0.031*\"result\" + 0.023*\"analysis\" + 0.022*\"first\" + 0.021*\"present\" + 0.017*\"one\" + 0.016*\"number\" + 0.014*\"expect\" + 0.014*\"meanwhile\" + 0.014*\"report\" + 0.013*\"observe\" + 0.013*\"evidence\" + 0.013*\"large\" + 0.012*\"range\" + 0.011*\"produce\" + 0.010*\"estimate\" + 0.010*\"base\"\n",
      "\n",
      "116: 0.144*\"invoke\" + 0.138*\"radio_pulsar\" + 0.053*\"false_positive\" + 0.031*\"crystal\" + 0.028*\"lambda\" + 0.018*\"process_operate\" + 0.016*\"momentum_transfer\" + 0.012*\"bragg\" + 0.006*\"experimental_setup\" + 0.005*\"originally_design\" + 0.004*\"neutral_interstellar_medium\" + 0.000*\"far\" + 0.000*\"number\" + 0.000*\"characteristic\" + 0.000*\"example\" + 0.000*\"consistent\" + 0.000*\"volume\" + 0.000*\"population\" + 0.000*\"search\" + 0.000*\"analysis\"\n",
      "\n",
      "6: 0.199*\"co\" + 0.084*\"molecular\" + 0.065*\"molecular_gas\" + 0.049*\"observation\" + 0.036*\"gas\" + 0.026*\"find\" + 0.023*\"estimate\" + 0.020*\"present\" + 0.019*\"reveal\" + 0.018*\"star_formation_efficiency\" + 0.018*\"co_emission\" + 0.017*\"high\" + 0.016*\"continuum_emission\" + 0.016*\"detect\" + 0.015*\"similar\" + 0.015*\"indicate\" + 0.014*\"use\" + 0.014*\"show\" + 0.013*\"three\" + 0.013*\"low\"\n",
      "\n",
      "385: 0.372*\"infrared\" + 0.213*\"detectable\" + 0.064*\"brighter\" + 0.016*\"presented\" + 0.012*\"particularly_interesting\" + 0.011*\"first_time\" + 0.008*\"either\" + 0.006*\"spitzer\" + 0.006*\"letter_present\" + 0.005*\"still\" + 0.004*\"electroweak_symmetry_breaking\" + 0.004*\"total\" + 0.003*\"lowering\" + 0.003*\"extremely_red\" + 0.003*\"uhecr_composition\" + 0.003*\"extremely_faint\" + 0.002*\"surrounding_region\" + 0.002*\"librae\" + 0.002*\"diameter_pc\" + 0.002*\"make\"\n",
      "\n",
      "586: 0.273*\"match\" + 0.087*\"forecast\" + 0.063*\"reside\" + 0.052*\"smc\" + 0.028*\"simply\" + 0.024*\"well\" + 0.023*\"constrain\" + 0.021*\"use\" + 0.019*\"small_magellanic_cloud\" + 0.018*\"additional\" + 0.017*\"consistent\" + 0.016*\"luminous_quasar\" + 0.011*\"galactic_nucleus_agn\" + 0.011*\"suggest\" + 0.010*\"virial_mass\" + 0.010*\"recent\" + 0.009*\"similar\" + 0.009*\"cmb_map\" + 0.009*\"number\" + 0.008*\"however\"\n",
      "\n",
      "300: 0.286*\"astronomy\" + 0.172*\"fall\" + 0.057*\"september\" + 0.056*\"status\" + 0.052*\"replace\" + 0.035*\"cover_range\" + 0.028*\"scientist\" + 0.022*\"gamma_ray_burst\" + 0.009*\"summer\" + 0.007*\"institution\" + 0.005*\"include\" + 0.004*\"atmospheric_cherenkov_telescope\" + 0.004*\"final_configuration\" + 0.003*\"science_topic\" + 0.003*\"arizona\" + 0.002*\"germany\" + 0.001*\"study\" + 0.000*\"since\" + 0.000*\"seven_years\" + 0.000*\"fred_lawrence_whipple_observatory\"\n",
      "\n",
      "68: 0.408*\"limit\" + 0.192*\"place\" + 0.052*\"covariance\" + 0.036*\"column\" + 0.016*\"imply\" + 0.013*\"examination\" + 0.012*\"discover\" + 0.011*\"stripped\" + 0.010*\"fold\" + 0.010*\"prone\" + 0.009*\"showcase\" + 0.008*\"high_column_density\" + 0.008*\"precision_good\" + 0.008*\"along_sight\" + 0.007*\"realistically\" + 0.007*\"extinction_correction\" + 0.007*\"fundamental_physics\" + 0.005*\"current_knowledge\" + 0.004*\"allow\" + 0.004*\"cold_dark\"\n",
      "\n",
      "493: 0.069*\"early_type\" + 0.062*\"eliminate\" + 0.062*\"virgo_cluster\" + 0.060*\"young_massive\" + 0.044*\"notice\" + 0.033*\"environments\" + 0.027*\"discovery_space\" + 0.025*\"confirm_nature\" + 0.025*\"high_resolution_spectrum\" + 0.022*\"plasmas\" + 0.022*\"line_diagnostics\" + 0.022*\"neutrino_production\" + 0.021*\"area_sky\" + 0.021*\"process_involve\" + 0.019*\"antiproton\" + 0.019*\"arecibo\" + 0.013*\"greatly_enhance\" + 0.010*\"local_void\" + 0.007*\"place_context\" + 0.007*\"hour_later\"\n",
      "\n",
      "576: 0.189*\"big\" + 0.098*\"feasibility\" + 0.044*\"fermi_bubbles\" + 0.018*\"review_status\" + 0.011*\"tau_neutrino\" + 0.011*\"uhe\" + 0.010*\"basic_principle\" + 0.008*\"atmospheric_neutrino\" + 0.008*\"tau_neutrinos\" + 0.008*\"uhe_neutrino\" + 0.005*\"photomultiplier_tube\" + 0.003*\"integrate_infrastructure\" + 0.003*\"inclined_shower\" + 0.003*\"skim\" + 0.001*\"instrumented\" + 0.000*\"vertical_string\" + 0.000*\"build_mediterranean_sea\" + 0.000*\"acoustic_sensor_amadeus\" + 0.000*\"future\" + 0.000*\"neutrino\"\n",
      "\n",
      "475: 0.302*\"broad\" + 0.117*\"diversity\" + 0.068*\"space_telescope\" + 0.067*\"precession\" + 0.054*\"starburst\" + 0.023*\"large_field_view\" + 0.021*\"reveal\" + 0.021*\"green_bank_telescope\" + 0.016*\"parkes\" + 0.013*\"promising_approach\" + 0.005*\"relevant_physic\" + 0.005*\"proton_beam\" + 0.005*\"lorimer\" + 0.005*\"timing_solution\" + 0.004*\"beam_shape\" + 0.004*\"nature\" + 0.003*\"various\" + 0.002*\"small\" + 0.001*\"good_angular_resolution\" + 0.001*\"reach\"\n",
      "\n",
      "514: 0.246*\"claim\" + 0.088*\"scan\" + 0.046*\"deeply\" + 0.045*\"gbm\" + 0.037*\"request\" + 0.018*\"performing\" + 0.005*\"detect_fermi\" + 0.005*\"showers\" + 0.004*\"long_bursts\" + 0.003*\"grb_grb_two\" + 0.003*\"grb_trigger\" + 0.003*\"fermi_burst_monitor_gbm\" + 0.001*\"telescope_wsrt\" + 0.001*\"agasa\" + 0.001*\"experimental_program\" + 0.000*\"analysis\" + 0.000*\"result\" + 0.000*\"present\" + 0.000*\"test\" + 0.000*\"data\"\n",
      "\n",
      "320: 0.160*\"mixing\" + 0.113*\"mix\" + 0.109*\"result_indicate\" + 0.097*\"minimal\" + 0.041*\"square\" + 0.039*\"higgs\" + 0.026*\"neutrino_oscillation\" + 0.022*\"via\" + 0.018*\"present_novel\" + 0.016*\"supersymmetric\" + 0.012*\"transmit\" + 0.011*\"explain\" + 0.010*\"produce\" + 0.008*\"neutrino_mass_hierarchy\" + 0.008*\"dirac\" + 0.007*\"consider\" + 0.006*\"leptogenesis\" + 0.005*\"neutralino\" + 0.005*\"mix_angle\" + 0.005*\"perform\"\n",
      "\n",
      "316: 0.323*\"measurement\" + 0.121*\"measure\" + 0.046*\"assumption\" + 0.043*\"constrain\" + 0.042*\"stage\" + 0.041*\"use\" + 0.027*\"span\" + 0.024*\"find\" + 0.023*\"using\" + 0.021*\"combine\" + 0.019*\"obtain\" + 0.018*\"type_ia_supernova\" + 0.017*\"make\" + 0.017*\"equal\" + 0.017*\"hubble_space_telescope\" + 0.016*\"present\" + 0.014*\"result\" + 0.011*\"compare\" + 0.010*\"derive\" + 0.010*\"estimate\"\n",
      "\n",
      "563: 0.256*\"spectrum\" + 0.175*\"energy\" + 0.030*\"result\" + 0.026*\"show\" + 0.026*\"find\" + 0.025*\"also\" + 0.021*\"use\" + 0.020*\"low\" + 0.018*\"obtain\" + 0.017*\"observe\" + 0.014*\"two\" + 0.013*\"analysis\" + 0.012*\"spectra\" + 0.012*\"due\" + 0.012*\"observed\" + 0.011*\"high\" + 0.010*\"investigate\" + 0.010*\"explain\" + 0.010*\"may\" + 0.009*\"determine\"\n",
      "\n",
      "13: 0.321*\"whose\" + 0.084*\"new_method\" + 0.073*\"low_frequency\" + 0.048*\"push\" + 0.044*\"early_phase\" + 0.041*\"condensate\" + 0.037*\"evident\" + 0.036*\"wall\" + 0.015*\"cp\" + 0.011*\"baryogenesis\" + 0.010*\"wave_front\" + 0.010*\"speed_sound\" + 0.009*\"boltzmann_equation\" + 0.007*\"per_pixel\" + 0.007*\"consecutive\" + 0.005*\"investigate\" + 0.004*\"see\" + 0.004*\"fluid_approximation\" + 0.003*\"similar\" + 0.003*\"bubble_wall\"\n",
      "\n",
      "440: 0.203*\"steep\" + 0.088*\"august\" + 0.082*\"outer_region\" + 0.022*\"vla_observation\" + 0.018*\"dwarf_spheroidals\" + 0.016*\"inner_kpc\" + 0.015*\"focal\" + 0.014*\"linearity\" + 0.012*\"vla_ghz\" + 0.011*\"percolation\" + 0.009*\"time_arrival\" + 0.007*\"quasar_pks\" + 0.006*\"meter_diameter\" + 0.006*\"extragalactic_cosmic_ray\" + 0.006*\"set_requirement\" + 0.005*\"shower_front\" + 0.005*\"sy\" + 0.003*\"gamma_ray_burst_grbs\" + 0.001*\"global_positioning_system\" + 0.001*\"perseus_cluster_galaxy\"\n",
      "\n",
      "302: 0.266*\"key\" + 0.154*\"observables\" + 0.044*\"vlt\" + 0.043*\"close_binary\" + 0.037*\"property\" + 0.035*\"identifying\" + 0.021*\"important\" + 0.018*\"chapter\" + 0.014*\"paper_review\" + 0.012*\"step_towards\" + 0.011*\"rotational_phase\" + 0.009*\"definitive\" + 0.009*\"close\" + 0.008*\"extracting\" + 0.008*\"ideally\" + 0.008*\"substantial_fraction\" + 0.007*\"maximise\" + 0.007*\"demonstrate\" + 0.007*\"adaptive_optic_image\" + 0.007*\"different\"\n",
      "\n",
      "508: 0.435*\"assume\" + 0.153*\"break\" + 0.041*\"thick\" + 0.031*\"bursts\" + 0.030*\"constrain\" + 0.023*\"estimated\" + 0.015*\"consistent\" + 0.014*\"correlated\" + 0.014*\"finally\" + 0.014*\"respectively\" + 0.010*\"differences\" + 0.010*\"even\" + 0.008*\"radio_lobe\" + 0.008*\"find\" + 0.007*\"inverse_compton\" + 0.006*\"much\" + 0.006*\"observed\" + 0.006*\"galactic_longitude\" + 0.005*\"archive_data\" + 0.005*\"derive\"\n",
      "\n",
      "82: 0.349*\"profile\" + 0.139*\"simulate\" + 0.081*\"real\" + 0.059*\"simulations\" + 0.043*\"output\" + 0.035*\"convergence\" + 0.030*\"related\" + 0.030*\"morphological\" + 0.014*\"clarify\" + 0.012*\"set\" + 0.009*\"fractal\" + 0.007*\"first_time\" + 0.007*\"manual\" + 0.007*\"produce\" + 0.006*\"include\" + 0.006*\"fractal_dimension\" + 0.006*\"gravitational_force\" + 0.005*\"worth\" + 0.005*\"revision\" + 0.005*\"role_play\"\n",
      "\n",
      "589: 0.228*\"examine\" + 0.128*\"final\" + 0.056*\"percent\" + 0.040*\"possess\" + 0.024*\"number\" + 0.022*\"exist\" + 0.018*\"set\" + 0.017*\"reject\" + 0.017*\"lorentz_force\" + 0.017*\"matter_power_spectrum\" + 0.016*\"adiabatic\" + 0.014*\"become_important\" + 0.014*\"characteristic\" + 0.013*\"current\" + 0.012*\"virtual\" + 0.012*\"due\" + 0.012*\"reach\" + 0.010*\"lead\" + 0.010*\"give\" + 0.009*\"able\"\n",
      "\n",
      "460: 0.139*\"nova\" + 0.096*\"imager\" + 0.090*\"adapt\" + 0.049*\"suspect\" + 0.048*\"present_detailed\" + 0.041*\"ambient_medium\" + 0.033*\"report_discovery_new\" + 0.027*\"shock_acceleration\" + 0.019*\"integral_field_spectrograph\" + 0.012*\"standardize\" + 0.007*\"discover\" + 0.007*\"snap\" + 0.007*\"low_spectral_resolution\" + 0.007*\"wavelength_range_micron\" + 0.006*\"nova_shell\" + 0.002*\"slicing\" + 0.001*\"nova_sco\" + 0.000*\"reveal\" + 0.000*\"develop\" + 0.000*\"observation\"\n",
      "\n",
      "364: 0.079*\"hcn\" + 0.073*\"soon\" + 0.073*\"dense_gas\" + 0.068*\"co_line\" + 0.054*\"node\" + 0.048*\"budget\" + 0.036*\"optical_transient\" + 0.025*\"prototypical\" + 0.024*\"giant_molecular_cloud\" + 0.022*\"failure\" + 0.020*\"fading\" + 0.016*\"intersect\" + 0.016*\"wide_field_camera\" + 0.015*\"emanate\" + 0.014*\"concurrent\" + 0.014*\"sax\" + 0.013*\"khz\" + 0.013*\"thermal_balance\" + 0.012*\"sustained\" + 0.012*\"reflector\"\n",
      "\n",
      "594: 0.495*\"focus\" + 0.094*\"plan\" + 0.087*\"article\" + 0.058*\"discussion\" + 0.020*\"describe\" + 0.014*\"recent\" + 0.010*\"primary_particle\" + 0.007*\"energy_cosmic_rays\" + 0.005*\"usa\" + 0.000*\"type\" + 0.000*\"present\" + 0.000*\"result\" + 0.000*\"large\" + 0.000*\"obtain\" + 0.000*\"observation\" + 0.000*\"energy\" + 0.000*\"limit\" + 0.000*\"construction\" + 0.000*\"spectrum\" + 0.000*\"composition\"\n",
      "\n",
      "477: 0.225*\"remove\" + 0.130*\"comparing\" + 0.065*\"abridge\" + 0.061*\"eso\" + 0.057*\"study_detail\" + 0.025*\"ionised_gas\" + 0.024*\"verification\" + 0.023*\"systematically_high\" + 0.014*\"multicolor\" + 0.013*\"offer_unique\" + 0.012*\"select_target\" + 0.010*\"blazar_candidate\" + 0.007*\"spectra_cover\" + 0.007*\"aiming\" + 0.006*\"eis\" + 0.004*\"giraffe\" + 0.004*\"heii_emission\" + 0.003*\"using\" + 0.003*\"owens_valley_radio\" + 0.001*\"addition\"\n",
      "\n",
      "535: 0.087*\"south\" + 0.079*\"north\" + 0.047*\"smoothness\" + 0.042*\"eddington\" + 0.037*\"tend_high\" + 0.036*\"electric_current\" + 0.028*\"interpret_term\" + 0.021*\"conductivity\" + 0.019*\"couple_constant\" + 0.016*\"hall\" + 0.015*\"lsun\" + 0.014*\"reach_accuracy\" + 0.010*\"positron_fraction\" + 0.009*\"pointwise\" + 0.008*\"goods\" + 0.007*\"near_horizon\" + 0.007*\"prominent_feature\" + 0.007*\"drop_significantly\" + 0.007*\"realtime\" + 0.006*\"drastically_improve\"\n",
      "\n",
      "152: 0.391*\"hd\" + 0.073*\"eventually\" + 0.037*\"leverage\" + 0.037*\"luminosity_distance\" + 0.027*\"analysis\" + 0.024*\"mg_ii\" + 0.022*\"reverberation_mapping\" + 0.017*\"exercise\" + 0.014*\"recognition\" + 0.013*\"type_ia_sne\" + 0.012*\"hubble_diagram\" + 0.010*\"suggest\" + 0.007*\"ionize_source\" + 0.007*\"statistical_tool\" + 0.007*\"thus\" + 0.004*\"observational_window\" + 0.004*\"bayes\" + 0.004*\"quasar_ulas\" + 0.004*\"amanda\" + 0.004*\"similar\"\n",
      "\n",
      "274: 0.140*\"red\" + 0.134*\"velocity_dispersion\" + 0.109*\"blue\" + 0.062*\"decline\" + 0.056*\"mars\" + 0.036*\"quasars\" + 0.029*\"consistent\" + 0.022*\"local_environment\" + 0.020*\"dominate\" + 0.018*\"galaxy_clusters\" + 0.017*\"suggest\" + 0.017*\"appear\" + 0.016*\"virial_radius\" + 0.013*\"sample_consist\" + 0.011*\"find\" + 0.010*\"imply\" + 0.010*\"however\" + 0.009*\"show\" + 0.009*\"low\" + 0.009*\"select\"\n",
      "\n",
      "423: 0.215*\"experiment\" + 0.146*\"direct\" + 0.083*\"neutron\" + 0.051*\"deg\" + 0.048*\"first\" + 0.046*\"new\" + 0.046*\"second\" + 0.046*\"acquire\" + 0.022*\"exist\" + 0.021*\"report\" + 0.020*\"special\" + 0.020*\"perform\" + 0.016*\"allow_us\" + 0.015*\"use\" + 0.015*\"presently\" + 0.014*\"include\" + 0.010*\"take\" + 0.008*\"low\" + 0.008*\"high_galactic_latitude\" + 0.007*\"recently\"\n",
      "\n",
      "443: 0.335*\"nucleus\" + 0.230*\"angle\" + 0.126*\"isotropic\" + 0.023*\"uv_optical\" + 0.016*\"angular_separation\" + 0.015*\"small\" + 0.015*\"point_towards\" + 0.013*\"number\" + 0.011*\"jet_axis\" + 0.006*\"appear\" + 0.004*\"acceleration_cosmic_ray\" + 0.004*\"identify_promising\" + 0.003*\"give\" + 0.002*\"arrival_direction_cosmic_ray\" + 0.001*\"blazars_active_galactic\" + 0.001*\"archival_data_take\" + 0.001*\"high_energy_mev_gev\" + 0.001*\"energy_threshold_gev\" + 0.000*\"locate_canary_island\" + 0.000*\"lead\"\n",
      "\n",
      "290: 0.230*\"proper_motion\" + 0.102*\"thermal_emission\" + 0.084*\"equatorial\" + 0.072*\"hot_gas\" + 0.051*\"data_collect\" + 0.040*\"logarithmic\" + 0.018*\"expel\" + 0.017*\"pg\" + 0.014*\"magnetic_dipole\" + 0.011*\"llagn\" + 0.011*\"order_magnitude_small\" + 0.009*\"binary_xrbs\" + 0.009*\"main_conclusion\" + 0.008*\"present_companion_paper\" + 0.007*\"hard_kev\" + 0.005*\"combine\" + 0.005*\"simple_analytical\" + 0.005*\"high_energy_gamma_ray\" + 0.004*\"model_kt_kev\" + 0.004*\"full_agreement\"\n",
      "\n",
      "195: 0.272*\"long\" + 0.254*\"variable\" + 0.057*\"underlying\" + 0.041*\"wise\" + 0.021*\"know\" + 0.018*\"variability\" + 0.017*\"property\" + 0.016*\"unfortunately\" + 0.016*\"ew\" + 0.011*\"spin_temperature\" + 0.010*\"one\" + 0.009*\"determine\" + 0.009*\"heii\" + 0.009*\"process\" + 0.008*\"analysis\" + 0.007*\"discuss\" + 0.007*\"observed_trend\" + 0.007*\"variability_amplitude\" + 0.006*\"work\" + 0.006*\"significant\"\n",
      "\n",
      "416: 0.194*\"interact\" + 0.140*\"models\" + 0.103*\"treatment\" + 0.094*\"stochastic\" + 0.040*\"station\" + 0.023*\"parameterized\" + 0.014*\"propose\" + 0.013*\"constrain\" + 0.012*\"espresso\" + 0.009*\"reasonably_well\" + 0.009*\"ross\" + 0.009*\"ssp\" + 0.008*\"arianna\" + 0.007*\"observations\" + 0.007*\"year_operation\" + 0.007*\"predict\" + 0.007*\"simple_stellar_population\" + 0.007*\"several\" + 0.005*\"characteristic\" + 0.004*\"allow\"\n",
      "\n",
      "599: 0.223*\"bright\" + 0.205*\"central\" + 0.119*\"center\" + 0.032*\"peculiar\" + 0.029*\"observe\" + 0.029*\"reveal\" + 0.028*\"two\" + 0.022*\"large\" + 0.017*\"due\" + 0.016*\"cluster_member\" + 0.015*\"evidence\" + 0.011*\"likely_due\" + 0.010*\"expect\" + 0.010*\"abell\" + 0.009*\"cluster_center\" + 0.008*\"also\" + 0.008*\"observation\" + 0.007*\"since\" + 0.007*\"analysis\" + 0.007*\"investigate\"\n",
      "\n",
      "160: 0.396*\"et_al\" + 0.168*\"implication\" + 0.100*\"et\" + 0.083*\"cosmological_simulation\" + 0.023*\"angular_power_spectrum\" + 0.014*\"recent\" + 0.011*\"imply\" + 0.009*\"contributor\" + 0.007*\"diffuse_background\" + 0.005*\"using\" + 0.005*\"way\" + 0.004*\"likely\" + 0.004*\"yield\" + 0.003*\"find\" + 0.002*\"constrain\" + 0.002*\"derive\" + 0.002*\"additional\" + 0.002*\"dark_matter_dm_annihilation\" + 0.002*\"large\" + 0.001*\"evidence\"\n",
      "\n",
      "217: 0.193*\"update\" + 0.189*\"integrate\" + 0.106*\"molecular_line\" + 0.059*\"july\" + 0.046*\"molecular_outflow\" + 0.029*\"digital\" + 0.013*\"turbulent_pressure\" + 0.007*\"submillimeter_array_sma\" + 0.006*\"likely_responsible\" + 0.005*\"plummer\" + 0.005*\"complex_molecule\" + 0.003*\"hot_molecular\" + 0.000*\"full\" + 0.000*\"ghz\" + 0.000*\"telescope\" + 0.000*\"also\" + 0.000*\"along\" + 0.000*\"density\" + 0.000*\"end\" + 0.000*\"absorption\"\n",
      "\n",
      "529: 0.266*\"accretion\" + 0.137*\"towards\" + 0.041*\"seven\" + 0.024*\"infall\" + 0.020*\"observation\" + 0.020*\"clouds\" + 0.019*\"via\" + 0.019*\"suggest\" + 0.019*\"evidence\" + 0.017*\"result\" + 0.017*\"perhaps\" + 0.017*\"however\" + 0.015*\"form\" + 0.013*\"compare\" + 0.013*\"find\" + 0.012*\"reveal\" + 0.011*\"due\" + 0.010*\"sio\" + 0.009*\"present\" + 0.009*\"high\"\n",
      "\n",
      "577: 0.402*\"impact\" + 0.228*\"cosmic\" + 0.105*\"modelling\" + 0.012*\"table\" + 0.012*\"extrasolar_planet\" + 0.010*\"investigate_possibility\" + 0.009*\"full\" + 0.008*\"comparisons\" + 0.008*\"undertake\" + 0.008*\"recent\" + 0.008*\"order\" + 0.006*\"process\" + 0.006*\"work\" + 0.006*\"reach\" + 0.006*\"evaluate\" + 0.006*\"great_number\" + 0.006*\"among_others\" + 0.006*\"estimate\" + 0.005*\"participate\" + 0.005*\"several\"\n",
      "\n",
      "256: 0.358*\"signature\" + 0.214*\"typically\" + 0.078*\"associated\" + 0.037*\"doppler\" + 0.029*\"closely\" + 0.028*\"however\" + 0.015*\"significant\" + 0.012*\"even\" + 0.011*\"cosmological_hydrodynamical_simulation\" + 0.010*\"similar\" + 0.006*\"observed\" + 0.005*\"respectively\" + 0.004*\"far\" + 0.004*\"high\" + 0.004*\"consistent\" + 0.004*\"exist\" + 0.004*\"find\" + 0.003*\"standard_model_sm_particle\" + 0.003*\"unpublished\" + 0.002*\"predict\"\n",
      "\n",
      "188: 0.301*\"boundary\" + 0.119*\"resonant\" + 0.085*\"misalignment\" + 0.028*\"utilizing\" + 0.019*\"remain_bound\" + 0.017*\"quantifying\" + 0.012*\"close\" + 0.010*\"definitively\" + 0.010*\"apparent_horizon\" + 0.010*\"total_pressure\" + 0.008*\"low_frequency_array\" + 0.007*\"analytic_formula\" + 0.007*\"range_mhz\" + 0.006*\"largely_unexplored\" + 0.004*\"teleparallel_equivalent\" + 0.003*\"arcsec_resolution\" + 0.003*\"spherical_surface\" + 0.002*\"already_deploy\" + 0.002*\"aim\" + 0.002*\"harsh\"\n",
      "\n",
      "420: 0.257*\"bulge\" + 0.102*\"apparent\" + 0.061*\"large_fraction\" + 0.056*\"axisymmetric\" + 0.051*\"geometrical\" + 0.046*\"small_fraction\" + 0.032*\"subsample\" + 0.031*\"minor_merger\" + 0.026*\"view_angle\" + 0.021*\"favorable\" + 0.018*\"structural_property\" + 0.017*\"prolate\" + 0.016*\"equivalently\" + 0.014*\"structural_parameter\" + 0.012*\"major_axis\" + 0.011*\"suggest\" + 0.009*\"triaxiality\" + 0.008*\"oblate\" + 0.008*\"particular\" + 0.007*\"intrinsic_shape\"\n",
      "\n",
      "439: 0.224*\"hii_region\" + 0.126*\"community\" + 0.079*\"objective\" + 0.057*\"superposition\" + 0.037*\"support_idea\" + 0.024*\"kinetics\" + 0.022*\"consortium\" + 0.010*\"deep_insight\" + 0.009*\"nearby_starburst_galaxy\" + 0.009*\"polycyclic_aromatic_hydrocarbon_pah\" + 0.007*\"factor_improvement\" + 0.007*\"dust_depletion\" + 0.007*\"angular_spectral_resolution\" + 0.006*\"nonequilibrium\" + 0.003*\"foresee\" + 0.002*\"substantially_good\" + 0.001*\"supernova_remnants_snrs\" + 0.000*\"pulsar_wind_nebulae_pwne\" + 0.000*\"galactic\" + 0.000*\"two\"\n",
      "\n"
     ]
    }
   ],
   "source": [
    "# save model to disk \n",
    "lda_model.save('lda.Model')\n",
    "for i,topic in lda_model.show_topics(formatted=True, num_topics=50, num_words=20):\n",
    "    print(str(i)+\": \"+ topic)\n",
    "    print()\n"
   ]
  },
  {
   "cell_type": "code",
   "execution_count": 0,
   "metadata": {
    "colab": {},
    "colab_type": "code",
    "id": "2HncwAMo9wJe"
   },
   "outputs": [],
   "source": []
  }
 ],
 "metadata": {
  "accelerator": "GPU",
  "colab": {
   "collapsed_sections": [],
   "name": "LDA_Accrete_AI.ipynb",
   "provenance": [],
   "toc_visible": true
  },
  "kernelspec": {
   "display_name": "Python 3",
   "language": "python",
   "name": "python3"
  },
  "language_info": {
   "codemirror_mode": {
    "name": "ipython",
    "version": 3
   },
   "file_extension": ".py",
   "mimetype": "text/x-python",
   "name": "python",
   "nbconvert_exporter": "python",
   "pygments_lexer": "ipython3",
   "version": "3.7.4"
  },
  "widgets": {
   "application/vnd.jupyter.widget-state+json": {
    "002e478b11b343b4a5e6ca3e5a8bfc16": {
     "model_module": "@jupyter-widgets/base",
     "model_name": "LayoutModel",
     "state": {
      "_model_module": "@jupyter-widgets/base",
      "_model_module_version": "1.2.0",
      "_model_name": "LayoutModel",
      "_view_count": null,
      "_view_module": "@jupyter-widgets/base",
      "_view_module_version": "1.2.0",
      "_view_name": "LayoutView",
      "align_content": null,
      "align_items": null,
      "align_self": null,
      "border": null,
      "bottom": null,
      "display": null,
      "flex": null,
      "flex_flow": null,
      "grid_area": null,
      "grid_auto_columns": null,
      "grid_auto_flow": null,
      "grid_auto_rows": null,
      "grid_column": null,
      "grid_gap": null,
      "grid_row": null,
      "grid_template_areas": null,
      "grid_template_columns": null,
      "grid_template_rows": null,
      "height": null,
      "justify_content": null,
      "justify_items": null,
      "left": null,
      "margin": null,
      "max_height": null,
      "max_width": null,
      "min_height": null,
      "min_width": null,
      "object_fit": null,
      "object_position": null,
      "order": null,
      "overflow": null,
      "overflow_x": null,
      "overflow_y": null,
      "padding": null,
      "right": null,
      "top": null,
      "visibility": null,
      "width": null
     }
    },
    "077f2837fffe419d9c9556c221cba081": {
     "model_module": "@jupyter-widgets/base",
     "model_name": "LayoutModel",
     "state": {
      "_model_module": "@jupyter-widgets/base",
      "_model_module_version": "1.2.0",
      "_model_name": "LayoutModel",
      "_view_count": null,
      "_view_module": "@jupyter-widgets/base",
      "_view_module_version": "1.2.0",
      "_view_name": "LayoutView",
      "align_content": null,
      "align_items": null,
      "align_self": null,
      "border": null,
      "bottom": null,
      "display": null,
      "flex": null,
      "flex_flow": null,
      "grid_area": null,
      "grid_auto_columns": null,
      "grid_auto_flow": null,
      "grid_auto_rows": null,
      "grid_column": null,
      "grid_gap": null,
      "grid_row": null,
      "grid_template_areas": null,
      "grid_template_columns": null,
      "grid_template_rows": null,
      "height": null,
      "justify_content": null,
      "justify_items": null,
      "left": null,
      "margin": null,
      "max_height": null,
      "max_width": null,
      "min_height": null,
      "min_width": null,
      "object_fit": null,
      "object_position": null,
      "order": null,
      "overflow": null,
      "overflow_x": null,
      "overflow_y": null,
      "padding": null,
      "right": null,
      "top": null,
      "visibility": null,
      "width": null
     }
    },
    "079c86c8efc74b98b918bb9309cf1fb6": {
     "model_module": "@jupyter-widgets/base",
     "model_name": "LayoutModel",
     "state": {
      "_model_module": "@jupyter-widgets/base",
      "_model_module_version": "1.2.0",
      "_model_name": "LayoutModel",
      "_view_count": null,
      "_view_module": "@jupyter-widgets/base",
      "_view_module_version": "1.2.0",
      "_view_name": "LayoutView",
      "align_content": null,
      "align_items": null,
      "align_self": null,
      "border": null,
      "bottom": null,
      "display": null,
      "flex": null,
      "flex_flow": null,
      "grid_area": null,
      "grid_auto_columns": null,
      "grid_auto_flow": null,
      "grid_auto_rows": null,
      "grid_column": null,
      "grid_gap": null,
      "grid_row": null,
      "grid_template_areas": null,
      "grid_template_columns": null,
      "grid_template_rows": null,
      "height": null,
      "justify_content": null,
      "justify_items": null,
      "left": null,
      "margin": null,
      "max_height": null,
      "max_width": null,
      "min_height": null,
      "min_width": null,
      "object_fit": null,
      "object_position": null,
      "order": null,
      "overflow": null,
      "overflow_x": null,
      "overflow_y": null,
      "padding": null,
      "right": null,
      "top": null,
      "visibility": null,
      "width": null
     }
    },
    "11c40c45d2574941821a2faa41558440": {
     "model_module": "@jupyter-widgets/base",
     "model_name": "LayoutModel",
     "state": {
      "_model_module": "@jupyter-widgets/base",
      "_model_module_version": "1.2.0",
      "_model_name": "LayoutModel",
      "_view_count": null,
      "_view_module": "@jupyter-widgets/base",
      "_view_module_version": "1.2.0",
      "_view_name": "LayoutView",
      "align_content": null,
      "align_items": null,
      "align_self": null,
      "border": null,
      "bottom": null,
      "display": null,
      "flex": null,
      "flex_flow": null,
      "grid_area": null,
      "grid_auto_columns": null,
      "grid_auto_flow": null,
      "grid_auto_rows": null,
      "grid_column": null,
      "grid_gap": null,
      "grid_row": null,
      "grid_template_areas": null,
      "grid_template_columns": null,
      "grid_template_rows": null,
      "height": null,
      "justify_content": null,
      "justify_items": null,
      "left": null,
      "margin": null,
      "max_height": null,
      "max_width": null,
      "min_height": null,
      "min_width": null,
      "object_fit": null,
      "object_position": null,
      "order": null,
      "overflow": null,
      "overflow_x": null,
      "overflow_y": null,
      "padding": null,
      "right": null,
      "top": null,
      "visibility": null,
      "width": null
     }
    },
    "18b0bbff7d0845edbb8277a9b201a618": {
     "model_module": "@jupyter-widgets/controls",
     "model_name": "DescriptionStyleModel",
     "state": {
      "_model_module": "@jupyter-widgets/controls",
      "_model_module_version": "1.5.0",
      "_model_name": "DescriptionStyleModel",
      "_view_count": null,
      "_view_module": "@jupyter-widgets/base",
      "_view_module_version": "1.2.0",
      "_view_name": "StyleView",
      "description_width": ""
     }
    },
    "19dd4957ec834fc19428c26f489bc84f": {
     "model_module": "@jupyter-widgets/base",
     "model_name": "LayoutModel",
     "state": {
      "_model_module": "@jupyter-widgets/base",
      "_model_module_version": "1.2.0",
      "_model_name": "LayoutModel",
      "_view_count": null,
      "_view_module": "@jupyter-widgets/base",
      "_view_module_version": "1.2.0",
      "_view_name": "LayoutView",
      "align_content": null,
      "align_items": null,
      "align_self": null,
      "border": null,
      "bottom": null,
      "display": null,
      "flex": null,
      "flex_flow": null,
      "grid_area": null,
      "grid_auto_columns": null,
      "grid_auto_flow": null,
      "grid_auto_rows": null,
      "grid_column": null,
      "grid_gap": null,
      "grid_row": null,
      "grid_template_areas": null,
      "grid_template_columns": null,
      "grid_template_rows": null,
      "height": null,
      "justify_content": null,
      "justify_items": null,
      "left": null,
      "margin": null,
      "max_height": null,
      "max_width": null,
      "min_height": null,
      "min_width": null,
      "object_fit": null,
      "object_position": null,
      "order": null,
      "overflow": null,
      "overflow_x": null,
      "overflow_y": null,
      "padding": null,
      "right": null,
      "top": null,
      "visibility": null,
      "width": null
     }
    },
    "1b2fce20731349128eee725bef9cefc2": {
     "model_module": "@jupyter-widgets/controls",
     "model_name": "ProgressStyleModel",
     "state": {
      "_model_module": "@jupyter-widgets/controls",
      "_model_module_version": "1.5.0",
      "_model_name": "ProgressStyleModel",
      "_view_count": null,
      "_view_module": "@jupyter-widgets/base",
      "_view_module_version": "1.2.0",
      "_view_name": "StyleView",
      "bar_color": null,
      "description_width": "initial"
     }
    },
    "1d978acfc9b24b888b0476f91e071944": {
     "model_module": "@jupyter-widgets/base",
     "model_name": "LayoutModel",
     "state": {
      "_model_module": "@jupyter-widgets/base",
      "_model_module_version": "1.2.0",
      "_model_name": "LayoutModel",
      "_view_count": null,
      "_view_module": "@jupyter-widgets/base",
      "_view_module_version": "1.2.0",
      "_view_name": "LayoutView",
      "align_content": null,
      "align_items": null,
      "align_self": null,
      "border": null,
      "bottom": null,
      "display": null,
      "flex": null,
      "flex_flow": null,
      "grid_area": null,
      "grid_auto_columns": null,
      "grid_auto_flow": null,
      "grid_auto_rows": null,
      "grid_column": null,
      "grid_gap": null,
      "grid_row": null,
      "grid_template_areas": null,
      "grid_template_columns": null,
      "grid_template_rows": null,
      "height": null,
      "justify_content": null,
      "justify_items": null,
      "left": null,
      "margin": null,
      "max_height": null,
      "max_width": null,
      "min_height": null,
      "min_width": null,
      "object_fit": null,
      "object_position": null,
      "order": null,
      "overflow": null,
      "overflow_x": null,
      "overflow_y": null,
      "padding": null,
      "right": null,
      "top": null,
      "visibility": null,
      "width": null
     }
    },
    "31af57cbd0f54cc69332cbc8223d19fd": {
     "model_module": "@jupyter-widgets/base",
     "model_name": "LayoutModel",
     "state": {
      "_model_module": "@jupyter-widgets/base",
      "_model_module_version": "1.2.0",
      "_model_name": "LayoutModel",
      "_view_count": null,
      "_view_module": "@jupyter-widgets/base",
      "_view_module_version": "1.2.0",
      "_view_name": "LayoutView",
      "align_content": null,
      "align_items": null,
      "align_self": null,
      "border": null,
      "bottom": null,
      "display": null,
      "flex": null,
      "flex_flow": null,
      "grid_area": null,
      "grid_auto_columns": null,
      "grid_auto_flow": null,
      "grid_auto_rows": null,
      "grid_column": null,
      "grid_gap": null,
      "grid_row": null,
      "grid_template_areas": null,
      "grid_template_columns": null,
      "grid_template_rows": null,
      "height": null,
      "justify_content": null,
      "justify_items": null,
      "left": null,
      "margin": null,
      "max_height": null,
      "max_width": null,
      "min_height": null,
      "min_width": null,
      "object_fit": null,
      "object_position": null,
      "order": null,
      "overflow": null,
      "overflow_x": null,
      "overflow_y": null,
      "padding": null,
      "right": null,
      "top": null,
      "visibility": null,
      "width": null
     }
    },
    "38d1c472794b4c738932b645f7f5ab94": {
     "model_module": "@jupyter-widgets/base",
     "model_name": "LayoutModel",
     "state": {
      "_model_module": "@jupyter-widgets/base",
      "_model_module_version": "1.2.0",
      "_model_name": "LayoutModel",
      "_view_count": null,
      "_view_module": "@jupyter-widgets/base",
      "_view_module_version": "1.2.0",
      "_view_name": "LayoutView",
      "align_content": null,
      "align_items": null,
      "align_self": null,
      "border": null,
      "bottom": null,
      "display": null,
      "flex": null,
      "flex_flow": null,
      "grid_area": null,
      "grid_auto_columns": null,
      "grid_auto_flow": null,
      "grid_auto_rows": null,
      "grid_column": null,
      "grid_gap": null,
      "grid_row": null,
      "grid_template_areas": null,
      "grid_template_columns": null,
      "grid_template_rows": null,
      "height": null,
      "justify_content": null,
      "justify_items": null,
      "left": null,
      "margin": null,
      "max_height": null,
      "max_width": null,
      "min_height": null,
      "min_width": null,
      "object_fit": null,
      "object_position": null,
      "order": null,
      "overflow": null,
      "overflow_x": null,
      "overflow_y": null,
      "padding": null,
      "right": null,
      "top": null,
      "visibility": null,
      "width": null
     }
    },
    "3bebdfd4ad254361970ee973a3776764": {
     "model_module": "@jupyter-widgets/controls",
     "model_name": "HTMLModel",
     "state": {
      "_dom_classes": [],
      "_model_module": "@jupyter-widgets/controls",
      "_model_module_version": "1.5.0",
      "_model_name": "HTMLModel",
      "_view_count": null,
      "_view_module": "@jupyter-widgets/controls",
      "_view_module_version": "1.5.0",
      "_view_name": "HTMLView",
      "description": "",
      "description_tooltip": null,
      "layout": "IPY_MODEL_59f0e19673e445b0b8322b4a4964a0cf",
      "placeholder": "​",
      "style": "IPY_MODEL_d7939152307a444baeb15a2f97b88dc4",
      "value": " 29191/29191 [00:46&lt;00:00, 631.72it/s]"
     }
    },
    "3d5330bbbef84a7590933cd19c4dfe20": {
     "model_module": "@jupyter-widgets/controls",
     "model_name": "ProgressStyleModel",
     "state": {
      "_model_module": "@jupyter-widgets/controls",
      "_model_module_version": "1.5.0",
      "_model_name": "ProgressStyleModel",
      "_view_count": null,
      "_view_module": "@jupyter-widgets/base",
      "_view_module_version": "1.2.0",
      "_view_name": "StyleView",
      "bar_color": null,
      "description_width": "initial"
     }
    },
    "3f333ea494044b49820c0c6d01b74833": {
     "model_module": "@jupyter-widgets/controls",
     "model_name": "HBoxModel",
     "state": {
      "_dom_classes": [],
      "_model_module": "@jupyter-widgets/controls",
      "_model_module_version": "1.5.0",
      "_model_name": "HBoxModel",
      "_view_count": null,
      "_view_module": "@jupyter-widgets/controls",
      "_view_module_version": "1.5.0",
      "_view_name": "HBoxView",
      "box_style": "",
      "children": [
       "IPY_MODEL_e04e7b1488084269865ca6b453bbc283",
       "IPY_MODEL_734259d504d44544bd8448fb533ef95c"
      ],
      "layout": "IPY_MODEL_38d1c472794b4c738932b645f7f5ab94"
     }
    },
    "40cb811a16f845d6b1063c7ae624cee7": {
     "model_module": "@jupyter-widgets/controls",
     "model_name": "ProgressStyleModel",
     "state": {
      "_model_module": "@jupyter-widgets/controls",
      "_model_module_version": "1.5.0",
      "_model_name": "ProgressStyleModel",
      "_view_count": null,
      "_view_module": "@jupyter-widgets/base",
      "_view_module_version": "1.2.0",
      "_view_name": "StyleView",
      "bar_color": null,
      "description_width": "initial"
     }
    },
    "494835cbee324f2997efb24d0db00417": {
     "model_module": "@jupyter-widgets/controls",
     "model_name": "ProgressStyleModel",
     "state": {
      "_model_module": "@jupyter-widgets/controls",
      "_model_module_version": "1.5.0",
      "_model_name": "ProgressStyleModel",
      "_view_count": null,
      "_view_module": "@jupyter-widgets/base",
      "_view_module_version": "1.2.0",
      "_view_name": "StyleView",
      "bar_color": null,
      "description_width": "initial"
     }
    },
    "4b4f12359c4c407f84d637a23cff6e22": {
     "model_module": "@jupyter-widgets/controls",
     "model_name": "ProgressStyleModel",
     "state": {
      "_model_module": "@jupyter-widgets/controls",
      "_model_module_version": "1.5.0",
      "_model_name": "ProgressStyleModel",
      "_view_count": null,
      "_view_module": "@jupyter-widgets/base",
      "_view_module_version": "1.2.0",
      "_view_name": "StyleView",
      "bar_color": null,
      "description_width": "initial"
     }
    },
    "560007aec2f140f394db9a7a979341b1": {
     "model_module": "@jupyter-widgets/controls",
     "model_name": "HBoxModel",
     "state": {
      "_dom_classes": [],
      "_model_module": "@jupyter-widgets/controls",
      "_model_module_version": "1.5.0",
      "_model_name": "HBoxModel",
      "_view_count": null,
      "_view_module": "@jupyter-widgets/controls",
      "_view_module_version": "1.5.0",
      "_view_name": "HBoxView",
      "box_style": "",
      "children": [
       "IPY_MODEL_f8838c3b6ee74c6b8b7c46da116a0970",
       "IPY_MODEL_6f5037551a604bb8be02f9e68b74b850"
      ],
      "layout": "IPY_MODEL_cc89478afaf844aa81a27120c7f624d9"
     }
    },
    "5717d2fe0a70499cbba7b6a71842b1a5": {
     "model_module": "@jupyter-widgets/base",
     "model_name": "LayoutModel",
     "state": {
      "_model_module": "@jupyter-widgets/base",
      "_model_module_version": "1.2.0",
      "_model_name": "LayoutModel",
      "_view_count": null,
      "_view_module": "@jupyter-widgets/base",
      "_view_module_version": "1.2.0",
      "_view_name": "LayoutView",
      "align_content": null,
      "align_items": null,
      "align_self": null,
      "border": null,
      "bottom": null,
      "display": null,
      "flex": null,
      "flex_flow": null,
      "grid_area": null,
      "grid_auto_columns": null,
      "grid_auto_flow": null,
      "grid_auto_rows": null,
      "grid_column": null,
      "grid_gap": null,
      "grid_row": null,
      "grid_template_areas": null,
      "grid_template_columns": null,
      "grid_template_rows": null,
      "height": null,
      "justify_content": null,
      "justify_items": null,
      "left": null,
      "margin": null,
      "max_height": null,
      "max_width": null,
      "min_height": null,
      "min_width": null,
      "object_fit": null,
      "object_position": null,
      "order": null,
      "overflow": null,
      "overflow_x": null,
      "overflow_y": null,
      "padding": null,
      "right": null,
      "top": null,
      "visibility": null,
      "width": null
     }
    },
    "59f0e19673e445b0b8322b4a4964a0cf": {
     "model_module": "@jupyter-widgets/base",
     "model_name": "LayoutModel",
     "state": {
      "_model_module": "@jupyter-widgets/base",
      "_model_module_version": "1.2.0",
      "_model_name": "LayoutModel",
      "_view_count": null,
      "_view_module": "@jupyter-widgets/base",
      "_view_module_version": "1.2.0",
      "_view_name": "LayoutView",
      "align_content": null,
      "align_items": null,
      "align_self": null,
      "border": null,
      "bottom": null,
      "display": null,
      "flex": null,
      "flex_flow": null,
      "grid_area": null,
      "grid_auto_columns": null,
      "grid_auto_flow": null,
      "grid_auto_rows": null,
      "grid_column": null,
      "grid_gap": null,
      "grid_row": null,
      "grid_template_areas": null,
      "grid_template_columns": null,
      "grid_template_rows": null,
      "height": null,
      "justify_content": null,
      "justify_items": null,
      "left": null,
      "margin": null,
      "max_height": null,
      "max_width": null,
      "min_height": null,
      "min_width": null,
      "object_fit": null,
      "object_position": null,
      "order": null,
      "overflow": null,
      "overflow_x": null,
      "overflow_y": null,
      "padding": null,
      "right": null,
      "top": null,
      "visibility": null,
      "width": null
     }
    },
    "5b41df142b1b4ef4be00392683d99640": {
     "model_module": "@jupyter-widgets/base",
     "model_name": "LayoutModel",
     "state": {
      "_model_module": "@jupyter-widgets/base",
      "_model_module_version": "1.2.0",
      "_model_name": "LayoutModel",
      "_view_count": null,
      "_view_module": "@jupyter-widgets/base",
      "_view_module_version": "1.2.0",
      "_view_name": "LayoutView",
      "align_content": null,
      "align_items": null,
      "align_self": null,
      "border": null,
      "bottom": null,
      "display": null,
      "flex": null,
      "flex_flow": null,
      "grid_area": null,
      "grid_auto_columns": null,
      "grid_auto_flow": null,
      "grid_auto_rows": null,
      "grid_column": null,
      "grid_gap": null,
      "grid_row": null,
      "grid_template_areas": null,
      "grid_template_columns": null,
      "grid_template_rows": null,
      "height": null,
      "justify_content": null,
      "justify_items": null,
      "left": null,
      "margin": null,
      "max_height": null,
      "max_width": null,
      "min_height": null,
      "min_width": null,
      "object_fit": null,
      "object_position": null,
      "order": null,
      "overflow": null,
      "overflow_x": null,
      "overflow_y": null,
      "padding": null,
      "right": null,
      "top": null,
      "visibility": null,
      "width": null
     }
    },
    "5b65e3059f8d4085925dc5c5be745f85": {
     "model_module": "@jupyter-widgets/controls",
     "model_name": "FloatProgressModel",
     "state": {
      "_dom_classes": [],
      "_model_module": "@jupyter-widgets/controls",
      "_model_module_version": "1.5.0",
      "_model_name": "FloatProgressModel",
      "_view_count": null,
      "_view_module": "@jupyter-widgets/controls",
      "_view_module_version": "1.5.0",
      "_view_name": "ProgressView",
      "bar_style": "success",
      "description": "100%",
      "description_tooltip": null,
      "layout": "IPY_MODEL_ed969178b91342d295fb554d98836c5b",
      "max": 29191,
      "min": 0,
      "orientation": "horizontal",
      "style": "IPY_MODEL_494835cbee324f2997efb24d0db00417",
      "value": 29191
     }
    },
    "5f2f5ba6ff7549529ea9e25d62c076f7": {
     "model_module": "@jupyter-widgets/base",
     "model_name": "LayoutModel",
     "state": {
      "_model_module": "@jupyter-widgets/base",
      "_model_module_version": "1.2.0",
      "_model_name": "LayoutModel",
      "_view_count": null,
      "_view_module": "@jupyter-widgets/base",
      "_view_module_version": "1.2.0",
      "_view_name": "LayoutView",
      "align_content": null,
      "align_items": null,
      "align_self": null,
      "border": null,
      "bottom": null,
      "display": null,
      "flex": null,
      "flex_flow": null,
      "grid_area": null,
      "grid_auto_columns": null,
      "grid_auto_flow": null,
      "grid_auto_rows": null,
      "grid_column": null,
      "grid_gap": null,
      "grid_row": null,
      "grid_template_areas": null,
      "grid_template_columns": null,
      "grid_template_rows": null,
      "height": null,
      "justify_content": null,
      "justify_items": null,
      "left": null,
      "margin": null,
      "max_height": null,
      "max_width": null,
      "min_height": null,
      "min_width": null,
      "object_fit": null,
      "object_position": null,
      "order": null,
      "overflow": null,
      "overflow_x": null,
      "overflow_y": null,
      "padding": null,
      "right": null,
      "top": null,
      "visibility": null,
      "width": null
     }
    },
    "66e1effb3d7549d7bb4822572ddf1d11": {
     "model_module": "@jupyter-widgets/controls",
     "model_name": "HTMLModel",
     "state": {
      "_dom_classes": [],
      "_model_module": "@jupyter-widgets/controls",
      "_model_module_version": "1.5.0",
      "_model_name": "HTMLModel",
      "_view_count": null,
      "_view_module": "@jupyter-widgets/controls",
      "_view_module_version": "1.5.0",
      "_view_name": "HTMLView",
      "description": "",
      "description_tooltip": null,
      "layout": "IPY_MODEL_d2be6aaaee694d83a6558bcafdf947f2",
      "placeholder": "​",
      "style": "IPY_MODEL_df5deb91552d497880b7ee52c74a41df",
      "value": " 29191/29191 [02:41&lt;00:00, 181.08it/s]"
     }
    },
    "67a3c356875842619325688814be129b": {
     "model_module": "@jupyter-widgets/base",
     "model_name": "LayoutModel",
     "state": {
      "_model_module": "@jupyter-widgets/base",
      "_model_module_version": "1.2.0",
      "_model_name": "LayoutModel",
      "_view_count": null,
      "_view_module": "@jupyter-widgets/base",
      "_view_module_version": "1.2.0",
      "_view_name": "LayoutView",
      "align_content": null,
      "align_items": null,
      "align_self": null,
      "border": null,
      "bottom": null,
      "display": null,
      "flex": null,
      "flex_flow": null,
      "grid_area": null,
      "grid_auto_columns": null,
      "grid_auto_flow": null,
      "grid_auto_rows": null,
      "grid_column": null,
      "grid_gap": null,
      "grid_row": null,
      "grid_template_areas": null,
      "grid_template_columns": null,
      "grid_template_rows": null,
      "height": null,
      "justify_content": null,
      "justify_items": null,
      "left": null,
      "margin": null,
      "max_height": null,
      "max_width": null,
      "min_height": null,
      "min_width": null,
      "object_fit": null,
      "object_position": null,
      "order": null,
      "overflow": null,
      "overflow_x": null,
      "overflow_y": null,
      "padding": null,
      "right": null,
      "top": null,
      "visibility": null,
      "width": null
     }
    },
    "67af9a4732e1499ea50cd66bf08cf871": {
     "model_module": "@jupyter-widgets/base",
     "model_name": "LayoutModel",
     "state": {
      "_model_module": "@jupyter-widgets/base",
      "_model_module_version": "1.2.0",
      "_model_name": "LayoutModel",
      "_view_count": null,
      "_view_module": "@jupyter-widgets/base",
      "_view_module_version": "1.2.0",
      "_view_name": "LayoutView",
      "align_content": null,
      "align_items": null,
      "align_self": null,
      "border": null,
      "bottom": null,
      "display": null,
      "flex": null,
      "flex_flow": null,
      "grid_area": null,
      "grid_auto_columns": null,
      "grid_auto_flow": null,
      "grid_auto_rows": null,
      "grid_column": null,
      "grid_gap": null,
      "grid_row": null,
      "grid_template_areas": null,
      "grid_template_columns": null,
      "grid_template_rows": null,
      "height": null,
      "justify_content": null,
      "justify_items": null,
      "left": null,
      "margin": null,
      "max_height": null,
      "max_width": null,
      "min_height": null,
      "min_width": null,
      "object_fit": null,
      "object_position": null,
      "order": null,
      "overflow": null,
      "overflow_x": null,
      "overflow_y": null,
      "padding": null,
      "right": null,
      "top": null,
      "visibility": null,
      "width": null
     }
    },
    "6cee0e1807e34a80aa54d8dcc239f1ef": {
     "model_module": "@jupyter-widgets/controls",
     "model_name": "HTMLModel",
     "state": {
      "_dom_classes": [],
      "_model_module": "@jupyter-widgets/controls",
      "_model_module_version": "1.5.0",
      "_model_name": "HTMLModel",
      "_view_count": null,
      "_view_module": "@jupyter-widgets/controls",
      "_view_module_version": "1.5.0",
      "_view_name": "HTMLView",
      "description": "",
      "description_tooltip": null,
      "layout": "IPY_MODEL_002e478b11b343b4a5e6ca3e5a8bfc16",
      "placeholder": "​",
      "style": "IPY_MODEL_da556c47fa66473d959cb76d7299c749",
      "value": " 29191/29191 [00:19&lt;00:00, 1485.35it/s]"
     }
    },
    "6f5037551a604bb8be02f9e68b74b850": {
     "model_module": "@jupyter-widgets/controls",
     "model_name": "HTMLModel",
     "state": {
      "_dom_classes": [],
      "_model_module": "@jupyter-widgets/controls",
      "_model_module_version": "1.5.0",
      "_model_name": "HTMLModel",
      "_view_count": null,
      "_view_module": "@jupyter-widgets/controls",
      "_view_module_version": "1.5.0",
      "_view_name": "HTMLView",
      "description": "",
      "description_tooltip": null,
      "layout": "IPY_MODEL_11c40c45d2574941821a2faa41558440",
      "placeholder": "​",
      "style": "IPY_MODEL_aa48b8f34d5247d6894ebfaab629a40a",
      "value": " 0/? [00:00&lt;?, ?it/s]"
     }
    },
    "734259d504d44544bd8448fb533ef95c": {
     "model_module": "@jupyter-widgets/controls",
     "model_name": "HTMLModel",
     "state": {
      "_dom_classes": [],
      "_model_module": "@jupyter-widgets/controls",
      "_model_module_version": "1.5.0",
      "_model_name": "HTMLModel",
      "_view_count": null,
      "_view_module": "@jupyter-widgets/controls",
      "_view_module_version": "1.5.0",
      "_view_name": "HTMLView",
      "description": "",
      "description_tooltip": null,
      "layout": "IPY_MODEL_077f2837fffe419d9c9556c221cba081",
      "placeholder": "​",
      "style": "IPY_MODEL_7512c9b89cb8498bb04e433effdc2fcc",
      "value": " 29191/29191 [05:42&lt;00:00, 85.22it/s]"
     }
    },
    "7512c9b89cb8498bb04e433effdc2fcc": {
     "model_module": "@jupyter-widgets/controls",
     "model_name": "DescriptionStyleModel",
     "state": {
      "_model_module": "@jupyter-widgets/controls",
      "_model_module_version": "1.5.0",
      "_model_name": "DescriptionStyleModel",
      "_view_count": null,
      "_view_module": "@jupyter-widgets/base",
      "_view_module_version": "1.2.0",
      "_view_name": "StyleView",
      "description_width": ""
     }
    },
    "8d3f5730a88d4decb31141cad7733463": {
     "model_module": "@jupyter-widgets/base",
     "model_name": "LayoutModel",
     "state": {
      "_model_module": "@jupyter-widgets/base",
      "_model_module_version": "1.2.0",
      "_model_name": "LayoutModel",
      "_view_count": null,
      "_view_module": "@jupyter-widgets/base",
      "_view_module_version": "1.2.0",
      "_view_name": "LayoutView",
      "align_content": null,
      "align_items": null,
      "align_self": null,
      "border": null,
      "bottom": null,
      "display": null,
      "flex": null,
      "flex_flow": null,
      "grid_area": null,
      "grid_auto_columns": null,
      "grid_auto_flow": null,
      "grid_auto_rows": null,
      "grid_column": null,
      "grid_gap": null,
      "grid_row": null,
      "grid_template_areas": null,
      "grid_template_columns": null,
      "grid_template_rows": null,
      "height": null,
      "justify_content": null,
      "justify_items": null,
      "left": null,
      "margin": null,
      "max_height": null,
      "max_width": null,
      "min_height": null,
      "min_width": null,
      "object_fit": null,
      "object_position": null,
      "order": null,
      "overflow": null,
      "overflow_x": null,
      "overflow_y": null,
      "padding": null,
      "right": null,
      "top": null,
      "visibility": null,
      "width": null
     }
    },
    "9389a7112db343ce8b8f7775b45e4e87": {
     "model_module": "@jupyter-widgets/controls",
     "model_name": "FloatProgressModel",
     "state": {
      "_dom_classes": [],
      "_model_module": "@jupyter-widgets/controls",
      "_model_module_version": "1.5.0",
      "_model_name": "FloatProgressModel",
      "_view_count": null,
      "_view_module": "@jupyter-widgets/controls",
      "_view_module_version": "1.5.0",
      "_view_name": "ProgressView",
      "bar_style": "success",
      "description": "100%",
      "description_tooltip": null,
      "layout": "IPY_MODEL_d751f37315424e20859ba8e984827bf7",
      "max": 29191,
      "min": 0,
      "orientation": "horizontal",
      "style": "IPY_MODEL_c745ce161524460296346e1327e844fa",
      "value": 29191
     }
    },
    "aa48b8f34d5247d6894ebfaab629a40a": {
     "model_module": "@jupyter-widgets/controls",
     "model_name": "DescriptionStyleModel",
     "state": {
      "_model_module": "@jupyter-widgets/controls",
      "_model_module_version": "1.5.0",
      "_model_name": "DescriptionStyleModel",
      "_view_count": null,
      "_view_module": "@jupyter-widgets/base",
      "_view_module_version": "1.2.0",
      "_view_name": "StyleView",
      "description_width": ""
     }
    },
    "aec452e09aee4e77af033c4da5e05b62": {
     "model_module": "@jupyter-widgets/base",
     "model_name": "LayoutModel",
     "state": {
      "_model_module": "@jupyter-widgets/base",
      "_model_module_version": "1.2.0",
      "_model_name": "LayoutModel",
      "_view_count": null,
      "_view_module": "@jupyter-widgets/base",
      "_view_module_version": "1.2.0",
      "_view_name": "LayoutView",
      "align_content": null,
      "align_items": null,
      "align_self": null,
      "border": null,
      "bottom": null,
      "display": null,
      "flex": null,
      "flex_flow": null,
      "grid_area": null,
      "grid_auto_columns": null,
      "grid_auto_flow": null,
      "grid_auto_rows": null,
      "grid_column": null,
      "grid_gap": null,
      "grid_row": null,
      "grid_template_areas": null,
      "grid_template_columns": null,
      "grid_template_rows": null,
      "height": null,
      "justify_content": null,
      "justify_items": null,
      "left": null,
      "margin": null,
      "max_height": null,
      "max_width": null,
      "min_height": null,
      "min_width": null,
      "object_fit": null,
      "object_position": null,
      "order": null,
      "overflow": null,
      "overflow_x": null,
      "overflow_y": null,
      "padding": null,
      "right": null,
      "top": null,
      "visibility": null,
      "width": null
     }
    },
    "be8dab2d9bb54bc0bfd24548a6797e6f": {
     "model_module": "@jupyter-widgets/controls",
     "model_name": "HBoxModel",
     "state": {
      "_dom_classes": [],
      "_model_module": "@jupyter-widgets/controls",
      "_model_module_version": "1.5.0",
      "_model_name": "HBoxModel",
      "_view_count": null,
      "_view_module": "@jupyter-widgets/controls",
      "_view_module_version": "1.5.0",
      "_view_name": "HBoxView",
      "box_style": "",
      "children": [
       "IPY_MODEL_9389a7112db343ce8b8f7775b45e4e87",
       "IPY_MODEL_ed231b6e69f34825a4c5f2e7a2504119"
      ],
      "layout": "IPY_MODEL_5f2f5ba6ff7549529ea9e25d62c076f7"
     }
    },
    "c08abdac7f474d6ea985781fb7d0cf69": {
     "model_module": "@jupyter-widgets/controls",
     "model_name": "FloatProgressModel",
     "state": {
      "_dom_classes": [],
      "_model_module": "@jupyter-widgets/controls",
      "_model_module_version": "1.5.0",
      "_model_name": "FloatProgressModel",
      "_view_count": null,
      "_view_module": "@jupyter-widgets/controls",
      "_view_module_version": "1.5.0",
      "_view_name": "ProgressView",
      "bar_style": "success",
      "description": "100%",
      "description_tooltip": null,
      "layout": "IPY_MODEL_67a3c356875842619325688814be129b",
      "max": 29191,
      "min": 0,
      "orientation": "horizontal",
      "style": "IPY_MODEL_40cb811a16f845d6b1063c7ae624cee7",
      "value": 29191
     }
    },
    "c0d2866d628540c99cdfccc07742ccd5": {
     "model_module": "@jupyter-widgets/controls",
     "model_name": "HBoxModel",
     "state": {
      "_dom_classes": [],
      "_model_module": "@jupyter-widgets/controls",
      "_model_module_version": "1.5.0",
      "_model_name": "HBoxModel",
      "_view_count": null,
      "_view_module": "@jupyter-widgets/controls",
      "_view_module_version": "1.5.0",
      "_view_name": "HBoxView",
      "box_style": "",
      "children": [
       "IPY_MODEL_d04a5833fb314e938fb7e83444798196",
       "IPY_MODEL_ca8cbde3999243899a8d1d35192d3299"
      ],
      "layout": "IPY_MODEL_8d3f5730a88d4decb31141cad7733463"
     }
    },
    "c745ce161524460296346e1327e844fa": {
     "model_module": "@jupyter-widgets/controls",
     "model_name": "ProgressStyleModel",
     "state": {
      "_model_module": "@jupyter-widgets/controls",
      "_model_module_version": "1.5.0",
      "_model_name": "ProgressStyleModel",
      "_view_count": null,
      "_view_module": "@jupyter-widgets/base",
      "_view_module_version": "1.2.0",
      "_view_name": "StyleView",
      "bar_color": null,
      "description_width": "initial"
     }
    },
    "ca8cbde3999243899a8d1d35192d3299": {
     "model_module": "@jupyter-widgets/controls",
     "model_name": "HTMLModel",
     "state": {
      "_dom_classes": [],
      "_model_module": "@jupyter-widgets/controls",
      "_model_module_version": "1.5.0",
      "_model_name": "HTMLModel",
      "_view_count": null,
      "_view_module": "@jupyter-widgets/controls",
      "_view_module_version": "1.5.0",
      "_view_name": "HTMLView",
      "description": "",
      "description_tooltip": null,
      "layout": "IPY_MODEL_19dd4957ec834fc19428c26f489bc84f",
      "placeholder": "​",
      "style": "IPY_MODEL_fc770fe16ddd471b91db02e4ee345d7e",
      "value": " 29191/29191 [00:09&lt;00:00, 3165.50it/s]"
     }
    },
    "cc89478afaf844aa81a27120c7f624d9": {
     "model_module": "@jupyter-widgets/base",
     "model_name": "LayoutModel",
     "state": {
      "_model_module": "@jupyter-widgets/base",
      "_model_module_version": "1.2.0",
      "_model_name": "LayoutModel",
      "_view_count": null,
      "_view_module": "@jupyter-widgets/base",
      "_view_module_version": "1.2.0",
      "_view_name": "LayoutView",
      "align_content": null,
      "align_items": null,
      "align_self": null,
      "border": null,
      "bottom": null,
      "display": null,
      "flex": null,
      "flex_flow": null,
      "grid_area": null,
      "grid_auto_columns": null,
      "grid_auto_flow": null,
      "grid_auto_rows": null,
      "grid_column": null,
      "grid_gap": null,
      "grid_row": null,
      "grid_template_areas": null,
      "grid_template_columns": null,
      "grid_template_rows": null,
      "height": null,
      "justify_content": null,
      "justify_items": null,
      "left": null,
      "margin": null,
      "max_height": null,
      "max_width": null,
      "min_height": null,
      "min_width": null,
      "object_fit": null,
      "object_position": null,
      "order": null,
      "overflow": null,
      "overflow_x": null,
      "overflow_y": null,
      "padding": null,
      "right": null,
      "top": null,
      "visibility": null,
      "width": null
     }
    },
    "d04a5833fb314e938fb7e83444798196": {
     "model_module": "@jupyter-widgets/controls",
     "model_name": "FloatProgressModel",
     "state": {
      "_dom_classes": [],
      "_model_module": "@jupyter-widgets/controls",
      "_model_module_version": "1.5.0",
      "_model_name": "FloatProgressModel",
      "_view_count": null,
      "_view_module": "@jupyter-widgets/controls",
      "_view_module_version": "1.5.0",
      "_view_name": "ProgressView",
      "bar_style": "success",
      "description": "100%",
      "description_tooltip": null,
      "layout": "IPY_MODEL_e81aec314ffb470f874ffba2660cd81f",
      "max": 29191,
      "min": 0,
      "orientation": "horizontal",
      "style": "IPY_MODEL_fa7867478f2b4613b8e7808607cbf62a",
      "value": 29191
     }
    },
    "d2be6aaaee694d83a6558bcafdf947f2": {
     "model_module": "@jupyter-widgets/base",
     "model_name": "LayoutModel",
     "state": {
      "_model_module": "@jupyter-widgets/base",
      "_model_module_version": "1.2.0",
      "_model_name": "LayoutModel",
      "_view_count": null,
      "_view_module": "@jupyter-widgets/base",
      "_view_module_version": "1.2.0",
      "_view_name": "LayoutView",
      "align_content": null,
      "align_items": null,
      "align_self": null,
      "border": null,
      "bottom": null,
      "display": null,
      "flex": null,
      "flex_flow": null,
      "grid_area": null,
      "grid_auto_columns": null,
      "grid_auto_flow": null,
      "grid_auto_rows": null,
      "grid_column": null,
      "grid_gap": null,
      "grid_row": null,
      "grid_template_areas": null,
      "grid_template_columns": null,
      "grid_template_rows": null,
      "height": null,
      "justify_content": null,
      "justify_items": null,
      "left": null,
      "margin": null,
      "max_height": null,
      "max_width": null,
      "min_height": null,
      "min_width": null,
      "object_fit": null,
      "object_position": null,
      "order": null,
      "overflow": null,
      "overflow_x": null,
      "overflow_y": null,
      "padding": null,
      "right": null,
      "top": null,
      "visibility": null,
      "width": null
     }
    },
    "d751f37315424e20859ba8e984827bf7": {
     "model_module": "@jupyter-widgets/base",
     "model_name": "LayoutModel",
     "state": {
      "_model_module": "@jupyter-widgets/base",
      "_model_module_version": "1.2.0",
      "_model_name": "LayoutModel",
      "_view_count": null,
      "_view_module": "@jupyter-widgets/base",
      "_view_module_version": "1.2.0",
      "_view_name": "LayoutView",
      "align_content": null,
      "align_items": null,
      "align_self": null,
      "border": null,
      "bottom": null,
      "display": null,
      "flex": null,
      "flex_flow": null,
      "grid_area": null,
      "grid_auto_columns": null,
      "grid_auto_flow": null,
      "grid_auto_rows": null,
      "grid_column": null,
      "grid_gap": null,
      "grid_row": null,
      "grid_template_areas": null,
      "grid_template_columns": null,
      "grid_template_rows": null,
      "height": null,
      "justify_content": null,
      "justify_items": null,
      "left": null,
      "margin": null,
      "max_height": null,
      "max_width": null,
      "min_height": null,
      "min_width": null,
      "object_fit": null,
      "object_position": null,
      "order": null,
      "overflow": null,
      "overflow_x": null,
      "overflow_y": null,
      "padding": null,
      "right": null,
      "top": null,
      "visibility": null,
      "width": null
     }
    },
    "d7939152307a444baeb15a2f97b88dc4": {
     "model_module": "@jupyter-widgets/controls",
     "model_name": "DescriptionStyleModel",
     "state": {
      "_model_module": "@jupyter-widgets/controls",
      "_model_module_version": "1.5.0",
      "_model_name": "DescriptionStyleModel",
      "_view_count": null,
      "_view_module": "@jupyter-widgets/base",
      "_view_module_version": "1.2.0",
      "_view_name": "StyleView",
      "description_width": ""
     }
    },
    "da556c47fa66473d959cb76d7299c749": {
     "model_module": "@jupyter-widgets/controls",
     "model_name": "DescriptionStyleModel",
     "state": {
      "_model_module": "@jupyter-widgets/controls",
      "_model_module_version": "1.5.0",
      "_model_name": "DescriptionStyleModel",
      "_view_count": null,
      "_view_module": "@jupyter-widgets/base",
      "_view_module_version": "1.2.0",
      "_view_name": "StyleView",
      "description_width": ""
     }
    },
    "dd1e3c5d80414530a72425d87ff8b871": {
     "model_module": "@jupyter-widgets/controls",
     "model_name": "FloatProgressModel",
     "state": {
      "_dom_classes": [],
      "_model_module": "@jupyter-widgets/controls",
      "_model_module_version": "1.5.0",
      "_model_name": "FloatProgressModel",
      "_view_count": null,
      "_view_module": "@jupyter-widgets/controls",
      "_view_module_version": "1.5.0",
      "_view_name": "ProgressView",
      "bar_style": "success",
      "description": "100%",
      "description_tooltip": null,
      "layout": "IPY_MODEL_1d978acfc9b24b888b0476f91e071944",
      "max": 29191,
      "min": 0,
      "orientation": "horizontal",
      "style": "IPY_MODEL_3d5330bbbef84a7590933cd19c4dfe20",
      "value": 29191
     }
    },
    "df5deb91552d497880b7ee52c74a41df": {
     "model_module": "@jupyter-widgets/controls",
     "model_name": "DescriptionStyleModel",
     "state": {
      "_model_module": "@jupyter-widgets/controls",
      "_model_module_version": "1.5.0",
      "_model_name": "DescriptionStyleModel",
      "_view_count": null,
      "_view_module": "@jupyter-widgets/base",
      "_view_module_version": "1.2.0",
      "_view_name": "StyleView",
      "description_width": ""
     }
    },
    "e04e7b1488084269865ca6b453bbc283": {
     "model_module": "@jupyter-widgets/controls",
     "model_name": "FloatProgressModel",
     "state": {
      "_dom_classes": [],
      "_model_module": "@jupyter-widgets/controls",
      "_model_module_version": "1.5.0",
      "_model_name": "FloatProgressModel",
      "_view_count": null,
      "_view_module": "@jupyter-widgets/controls",
      "_view_module_version": "1.5.0",
      "_view_name": "ProgressView",
      "bar_style": "success",
      "description": "100%",
      "description_tooltip": null,
      "layout": "IPY_MODEL_67af9a4732e1499ea50cd66bf08cf871",
      "max": 29191,
      "min": 0,
      "orientation": "horizontal",
      "style": "IPY_MODEL_4b4f12359c4c407f84d637a23cff6e22",
      "value": 29191
     }
    },
    "e81aec314ffb470f874ffba2660cd81f": {
     "model_module": "@jupyter-widgets/base",
     "model_name": "LayoutModel",
     "state": {
      "_model_module": "@jupyter-widgets/base",
      "_model_module_version": "1.2.0",
      "_model_name": "LayoutModel",
      "_view_count": null,
      "_view_module": "@jupyter-widgets/base",
      "_view_module_version": "1.2.0",
      "_view_name": "LayoutView",
      "align_content": null,
      "align_items": null,
      "align_self": null,
      "border": null,
      "bottom": null,
      "display": null,
      "flex": null,
      "flex_flow": null,
      "grid_area": null,
      "grid_auto_columns": null,
      "grid_auto_flow": null,
      "grid_auto_rows": null,
      "grid_column": null,
      "grid_gap": null,
      "grid_row": null,
      "grid_template_areas": null,
      "grid_template_columns": null,
      "grid_template_rows": null,
      "height": null,
      "justify_content": null,
      "justify_items": null,
      "left": null,
      "margin": null,
      "max_height": null,
      "max_width": null,
      "min_height": null,
      "min_width": null,
      "object_fit": null,
      "object_position": null,
      "order": null,
      "overflow": null,
      "overflow_x": null,
      "overflow_y": null,
      "padding": null,
      "right": null,
      "top": null,
      "visibility": null,
      "width": null
     }
    },
    "ed231b6e69f34825a4c5f2e7a2504119": {
     "model_module": "@jupyter-widgets/controls",
     "model_name": "HTMLModel",
     "state": {
      "_dom_classes": [],
      "_model_module": "@jupyter-widgets/controls",
      "_model_module_version": "1.5.0",
      "_model_name": "HTMLModel",
      "_view_count": null,
      "_view_module": "@jupyter-widgets/controls",
      "_view_module_version": "1.5.0",
      "_view_name": "HTMLView",
      "description": "",
      "description_tooltip": null,
      "layout": "IPY_MODEL_31af57cbd0f54cc69332cbc8223d19fd",
      "placeholder": "​",
      "style": "IPY_MODEL_18b0bbff7d0845edbb8277a9b201a618",
      "value": " 29191/29191 [03:01&lt;00:00, 160.87it/s]"
     }
    },
    "ed969178b91342d295fb554d98836c5b": {
     "model_module": "@jupyter-widgets/base",
     "model_name": "LayoutModel",
     "state": {
      "_model_module": "@jupyter-widgets/base",
      "_model_module_version": "1.2.0",
      "_model_name": "LayoutModel",
      "_view_count": null,
      "_view_module": "@jupyter-widgets/base",
      "_view_module_version": "1.2.0",
      "_view_name": "LayoutView",
      "align_content": null,
      "align_items": null,
      "align_self": null,
      "border": null,
      "bottom": null,
      "display": null,
      "flex": null,
      "flex_flow": null,
      "grid_area": null,
      "grid_auto_columns": null,
      "grid_auto_flow": null,
      "grid_auto_rows": null,
      "grid_column": null,
      "grid_gap": null,
      "grid_row": null,
      "grid_template_areas": null,
      "grid_template_columns": null,
      "grid_template_rows": null,
      "height": null,
      "justify_content": null,
      "justify_items": null,
      "left": null,
      "margin": null,
      "max_height": null,
      "max_width": null,
      "min_height": null,
      "min_width": null,
      "object_fit": null,
      "object_position": null,
      "order": null,
      "overflow": null,
      "overflow_x": null,
      "overflow_y": null,
      "padding": null,
      "right": null,
      "top": null,
      "visibility": null,
      "width": null
     }
    },
    "ee7761d507fc402f9aabf56d433c7259": {
     "model_module": "@jupyter-widgets/controls",
     "model_name": "HBoxModel",
     "state": {
      "_dom_classes": [],
      "_model_module": "@jupyter-widgets/controls",
      "_model_module_version": "1.5.0",
      "_model_name": "HBoxModel",
      "_view_count": null,
      "_view_module": "@jupyter-widgets/controls",
      "_view_module_version": "1.5.0",
      "_view_name": "HBoxView",
      "box_style": "",
      "children": [
       "IPY_MODEL_5b65e3059f8d4085925dc5c5be745f85",
       "IPY_MODEL_3bebdfd4ad254361970ee973a3776764"
      ],
      "layout": "IPY_MODEL_079c86c8efc74b98b918bb9309cf1fb6"
     }
    },
    "f20f9ce7654943d0b6bc4433e8655d28": {
     "model_module": "@jupyter-widgets/controls",
     "model_name": "HBoxModel",
     "state": {
      "_dom_classes": [],
      "_model_module": "@jupyter-widgets/controls",
      "_model_module_version": "1.5.0",
      "_model_name": "HBoxModel",
      "_view_count": null,
      "_view_module": "@jupyter-widgets/controls",
      "_view_module_version": "1.5.0",
      "_view_name": "HBoxView",
      "box_style": "",
      "children": [
       "IPY_MODEL_dd1e3c5d80414530a72425d87ff8b871",
       "IPY_MODEL_66e1effb3d7549d7bb4822572ddf1d11"
      ],
      "layout": "IPY_MODEL_5b41df142b1b4ef4be00392683d99640"
     }
    },
    "f80ef4792b114ebe9059760519b5731a": {
     "model_module": "@jupyter-widgets/controls",
     "model_name": "HBoxModel",
     "state": {
      "_dom_classes": [],
      "_model_module": "@jupyter-widgets/controls",
      "_model_module_version": "1.5.0",
      "_model_name": "HBoxModel",
      "_view_count": null,
      "_view_module": "@jupyter-widgets/controls",
      "_view_module_version": "1.5.0",
      "_view_name": "HBoxView",
      "box_style": "",
      "children": [
       "IPY_MODEL_c08abdac7f474d6ea985781fb7d0cf69",
       "IPY_MODEL_6cee0e1807e34a80aa54d8dcc239f1ef"
      ],
      "layout": "IPY_MODEL_aec452e09aee4e77af033c4da5e05b62"
     }
    },
    "f8838c3b6ee74c6b8b7c46da116a0970": {
     "model_module": "@jupyter-widgets/controls",
     "model_name": "FloatProgressModel",
     "state": {
      "_dom_classes": [],
      "_model_module": "@jupyter-widgets/controls",
      "_model_module_version": "1.5.0",
      "_model_name": "FloatProgressModel",
      "_view_count": null,
      "_view_module": "@jupyter-widgets/controls",
      "_view_module_version": "1.5.0",
      "_view_name": "ProgressView",
      "bar_style": "success",
      "description": "",
      "description_tooltip": null,
      "layout": "IPY_MODEL_5717d2fe0a70499cbba7b6a71842b1a5",
      "max": 1,
      "min": 0,
      "orientation": "horizontal",
      "style": "IPY_MODEL_1b2fce20731349128eee725bef9cefc2",
      "value": 0
     }
    },
    "fa7867478f2b4613b8e7808607cbf62a": {
     "model_module": "@jupyter-widgets/controls",
     "model_name": "ProgressStyleModel",
     "state": {
      "_model_module": "@jupyter-widgets/controls",
      "_model_module_version": "1.5.0",
      "_model_name": "ProgressStyleModel",
      "_view_count": null,
      "_view_module": "@jupyter-widgets/base",
      "_view_module_version": "1.2.0",
      "_view_name": "StyleView",
      "bar_color": null,
      "description_width": "initial"
     }
    },
    "fc770fe16ddd471b91db02e4ee345d7e": {
     "model_module": "@jupyter-widgets/controls",
     "model_name": "DescriptionStyleModel",
     "state": {
      "_model_module": "@jupyter-widgets/controls",
      "_model_module_version": "1.5.0",
      "_model_name": "DescriptionStyleModel",
      "_view_count": null,
      "_view_module": "@jupyter-widgets/base",
      "_view_module_version": "1.2.0",
      "_view_name": "StyleView",
      "description_width": ""
     }
    }
   }
  }
 },
 "nbformat": 4,
 "nbformat_minor": 1
}
